{
 "cells": [
  {
   "cell_type": "code",
   "execution_count": 1,
   "metadata": {},
   "outputs": [],
   "source": [
    "%matplotlib inline\n",
    "%reload_ext autoreload\n",
    "%autoreload 2\n",
    "\n",
    "import numpy as np\n",
    "import matplotlib.pyplot as plt\n",
    "import pandas as pd\n",
    "import seaborn as sns\n",
    "\n",
    "from sklearn.linear_model import LogisticRegression, LinearRegression\n",
    "from sklearn.metrics import classification_report, confusion_matrix\n",
    "\n",
    "\n",
    "from classifier import train_one_vs_all, predict_one_vs_all\n",
    "from logistic_regression import logistic, nll_cost_function, gradient_descent"
   ]
  },
  {
   "cell_type": "code",
   "execution_count": 2,
   "metadata": {},
   "outputs": [
    {
     "name": "stdout",
     "output_type": "stream",
     "text": [
      "(449, 9)\n"
     ]
    }
   ],
   "source": [
    "np_data = pd.read_csv('OV.csv',keep_default_na=False, sep=';',header=None, encoding = \"utf-8\").values\n",
    "\n",
    "# age \n",
    "age = np_data[:,2].astype(int)\n",
    "\n",
    "# gender\n",
    "gender = np_data[:,3]\n",
    "gender = np.array([l == 'FEMALE' for l in gender]).astype('int') #0 man, 1 woman\n",
    "\n",
    "# ajcc_pathologic_tumor_stage\n",
    "clinical_stage = np_data[:,4]\n",
    "# clinical_stage = np.where(clinical_stage==\"Stage I\", 0, clinical_stage)\n",
    "clinical_stage = np.where(clinical_stage==\"Stage IA\", 1, clinical_stage)\n",
    "clinical_stage = np.where(clinical_stage==\"Stage IB\", 2, clinical_stage)\n",
    "clinical_stage = np.where(clinical_stage==\"Stage IC\", 3, clinical_stage)\n",
    "clinical_stage = np.where(clinical_stage==\"Stage IIA\", 4, clinical_stage)\n",
    "clinical_stage = np.where(clinical_stage==\"Stage IIB\", 5, clinical_stage)\n",
    "clinical_stage = np.where(clinical_stage==\"Stage IIC\", 6, clinical_stage)\n",
    "clinical_stage = np.where(clinical_stage==\"Stage IIIA\", 7, clinical_stage)\n",
    "clinical_stage = np.where(clinical_stage==\"Stage IIIB\", 8, clinical_stage)\n",
    "clinical_stage = np.where(clinical_stage==\"Stage IIIC\", 9, clinical_stage)\n",
    "clinical_stage = np.where(clinical_stage==\"Stage IV\", 10, clinical_stage)\n",
    "\n",
    "# histological_type\n",
    "histological_type = np_data[:,5] # ignore, they are all the same\n",
    "\n",
    "# histological_grade\n",
    "histological_grade = np_data[:,6] \n",
    "histological_grade = np.where(histological_grade==\"G1\", 0, histological_grade)\n",
    "histological_grade = np.where(histological_grade==\"G2\", 1, histological_grade)\n",
    "histological_grade = np.where(histological_grade==\"G3\", 2, 3)\n",
    "\n",
    "# initial_pathologic_dx_year\n",
    "initial_pathologic_dx_year = np_data[:,7].astype(int)\n",
    "\n",
    "# vital_status\n",
    "vital_status = np_data[:,8]\n",
    "vital_status = np.array([l == 'Alive' for l in vital_status]).astype('int') #0 Dead, 1 Alive\n",
    "\n",
    "# tumor_status\n",
    "tumor_status = np_data[:,9] \n",
    "tumor_status = np.array([l == 'WITH TUMOR' for l in tumor_status]).astype('int') #0 no tum, 1 with tum\n",
    "\n",
    "# death_days_to\n",
    "death_days_to = np_data[:, 10] \n",
    "\n",
    "# new_tumor_event_type\n",
    "new_tumor_event_type = np_data[:,11] # N/A - 0, other - 1\n",
    "new_tumor_event_type = np.array([l != '#N/A' for l in new_tumor_event_type]).astype('int') #0 no tum, 1 with tum\n",
    "\n",
    "#new_tumor_event_dx_days_to\n",
    "new_tumor_event_dx_days_to = np_data[:,12]\n",
    "new_tumor_event_dx_days_to = np.where(new_tumor_event_dx_days_to==\"#N/A\", 0 , new_tumor_event_dx_days_to).astype(int)\n",
    "\n",
    "#treatment_outcome_first_course\n",
    "outcome = np_data[:,13];\n",
    "outcome = np.where(outcome==\"Complete Remission/Response\", 0, outcome)\n",
    "outcome = np.where(outcome==\"Partial Remission/Response\", 3, outcome)\n",
    "outcome = np.where(outcome==\"Progressive Disease\", 2, outcome)\n",
    "outcome = np.where(outcome==\"Stable Disease\", 1, outcome)\n",
    "\n",
    "m = np_data.shape[0]\n",
    "X = np.stack([np.ones(m), age, gender, clinical_stage, histological_grade, initial_pathologic_dx_year, tumor_status, new_tumor_event_type, new_tumor_event_dx_days_to], axis=1).astype(int)\n",
    "n = X.shape[1]\n",
    "\n",
    "print(X.shape)"
   ]
  },
  {
   "cell_type": "code",
   "execution_count": 3,
   "metadata": {},
   "outputs": [
    {
     "name": "stdout",
     "output_type": "stream",
     "text": [
      "181 268\n"
     ]
    },
    {
     "name": "stderr",
     "output_type": "stream",
     "text": [
      "/Users/Mashka/Downloads/cancer/logistic_regression.py:14: RuntimeWarning: overflow encountered in power\n",
      "  denum = ones_z.copy() + np.power(exp, -z)\n",
      "/Users/Mashka/Downloads/cancer/logistic_regression.py:32: RuntimeWarning: divide by zero encountered in log\n",
      "  cost = -np.dot(y, np.log(h)) - np.dot((1-y), np.log(1 - h))\n"
     ]
    },
    {
     "name": "stdout",
     "output_type": "stream",
     "text": [
      "accuracy: 36.11 %\n"
     ]
    }
   ],
   "source": [
    "theta = np.ones(n)\n",
    "iters = 2000\n",
    "\n",
    "y = vital_status\n",
    "X = np.stack([np.ones(m), age, gender, clinical_stage, histological_grade, initial_pathologic_dx_year, tumor_status, new_tumor_event_type, new_tumor_event_dx_days_to], axis=1).astype(int)\n",
    "\n",
    "numTrain = 289\n",
    "numTest = 72\n",
    "\n",
    "dead = np.nonzero(vital_status == 0)[0]\n",
    "alive = np.nonzero(vital_status == 1)[0]\n",
    "subset = np.concatenate([dead, alive[0:len(dead)] ])\n",
    "\n",
    "print(len(alive), len(dead))\n",
    "\n",
    "np.random.shuffle(subset)\n",
    "\n",
    "X = X[subset,:]\n",
    "y = y[subset]\n",
    "\n",
    "train = np.arange(numTrain)\n",
    "test  = numTrain + np.arange(numTest)\n",
    "\n",
    "X_train = X[train,:]\n",
    "y_train = y[train]\n",
    "\n",
    "X_test  = X[test,:]\n",
    "y_test  = y[test]\n",
    "\n",
    "theta, J = gradient_descent(X_train, y_train, theta, 0.0001, iters)\n",
    "# print(J[-20:-1])\n",
    "\n",
    "y_predict = np.zeros(len(y_test))\n",
    "correct_pred = 0\n",
    "result = logistic(np.dot(X_test,theta))\n",
    "y_predict =  np.where(result < 0.5, 0, result)\n",
    "y_predict =  np.where(y_predict >= 0.5, 1, y_predict)\n",
    "\n",
    "for i in range(len(y_test)):\n",
    "    if  y_predict[i] == y_test[i]:\n",
    "        correct_pred+=1\n",
    "\n",
    "print(\"accuracy:\", np.around(correct_pred/len(y_test)*100,2),\"%\")"
   ]
  },
  {
   "cell_type": "code",
   "execution_count": 4,
   "metadata": {},
   "outputs": [
    {
     "name": "stdout",
     "output_type": "stream",
     "text": [
      "(449, 9)\n",
      "accuracy: 84.72 %\n"
     ]
    }
   ],
   "source": [
    "lr = LogisticRegression(C = 10e15, max_iter=1000, solver='liblinear')\n",
    "\n",
    "y = vital_status\n",
    "X = np.stack([np.ones(m), age, gender, clinical_stage, histological_grade, initial_pathologic_dx_year, tumor_status, new_tumor_event_type, new_tumor_event_dx_days_to], axis=1).astype(int)\n",
    "\n",
    "numTrain = 289\n",
    "numTest = 72\n",
    "\n",
    "dead = np.nonzero(vital_status == 0)[0]\n",
    "alive = np.nonzero(vital_status == 1)[0]\n",
    "subset = np.concatenate([dead, alive[0:len(dead)] ])\n",
    "np.random.seed(0)\n",
    "\n",
    "np.random.shuffle(subset)\n",
    "\n",
    "X = X[subset,:]\n",
    "y = y[subset]\n",
    "\n",
    "print(X.shape)\n",
    "train = np.arange(numTrain)\n",
    "test  = numTrain + np.arange(numTest)\n",
    "\n",
    "X_train = X[train,:]\n",
    "y_train = y[train]\n",
    "\n",
    "X_test  = X[test,:]\n",
    "y_test  = y[test]\n",
    "\n",
    "lr.fit(X_train, y_train)\n",
    "prediction = lr.predict(X_test)\n",
    "\n",
    "correct_pred = 0\n",
    "for i in range(len(prediction)):\n",
    "    if  prediction[i] == y_test[i]:\n",
    "        correct_pred+=1\n",
    "cnf_matrix = confusion_matrix(y_test, prediction)\n",
    "\n",
    "print(\"accuracy:\", np.around(correct_pred/len(y_test)*100,2),\"%\")"
   ]
  },
  {
   "cell_type": "code",
   "execution_count": 5,
   "metadata": {},
   "outputs": [
    {
     "data": {
      "text/plain": [
       "Text(0.5, 257.44, 'Predicted label')"
      ]
     },
     "execution_count": 5,
     "metadata": {},
     "output_type": "execute_result"
    },
    {
     "data": {
      "image/png": "[encoded data removed]",
      "text/plain": [
       "<Figure size 432x288 with 2 Axes>"
      ]
     },
     "metadata": {
      "needs_background": "light"
     },
     "output_type": "display_data"
    }
   ],
   "source": [
    "class_names=[0, 1] # name  of classes\n",
    "names = [\"Dead\", \"Alive\"]\n",
    "\n",
    "fig, ax = plt.subplots()\n",
    "tick_marks = np.arange(len(class_names))\n",
    "plt.xticks(tick_marks, names)\n",
    "plt.yticks(tick_marks, names)\n",
    "# create heatmap\n",
    "sns.heatmap(pd.DataFrame(cnf_matrix), annot=True, cmap=\"YlGnBu\" ,fmt='g')\n",
    "ax.xaxis.set_label_position(\"top\")\n",
    "plt.tight_layout()\n",
    "plt.title('Confusion matrix', y=1.1)\n",
    "plt.ylabel('Actual label')\n",
    "plt.xlabel('Predicted label')"
   ]
  },
  {
   "cell_type": "code",
   "execution_count": 6,
   "metadata": {},
   "outputs": [
    {
     "name": "stdout",
     "output_type": "stream",
     "text": [
      "(268, 9)\n"
     ]
    }
   ],
   "source": [
    "# choose only dead ones \n",
    "dead = np.nonzero(vital_status == 0)[0] # indices of dead people\n",
    "np.random.shuffle(dead)\n",
    "\n",
    "y = death_days_to[dead].astype('int') # get all y's\n",
    "\n",
    "X = np.stack([np.ones(m), age, gender, clinical_stage, histological_grade, initial_pathologic_dx_year, tumor_status, new_tumor_event_type, new_tumor_event_dx_days_to], axis=1).astype(int)\n",
    "X = X[dead, :]\n",
    "\n",
    "print(X.shape)\n",
    "\n",
    "numTrain    = 215\n",
    "numTest     = 53\n",
    "\n",
    "train = np.arange(numTrain)\n",
    "test  = numTrain + np.arange(numTest)\n",
    "\n",
    "X_train = X[train,:]\n",
    "y_train = y[train]\n",
    "\n",
    "X_test  = X[test,:]\n",
    "y_test  = y[test]\n",
    "\n"
   ]
  },
  {
   "cell_type": "code",
   "execution_count": 7,
   "metadata": {},
   "outputs": [],
   "source": [
    "# regression\n",
    "def gradient_descent( X, y, alpha, iters, theta=None ):\n",
    "\n",
    "    m,n = X.shape\n",
    "    \n",
    "    if theta is None:\n",
    "        theta = np.ones(n)\n",
    "    \n",
    "    J_history = np.ones(iters)\n",
    "\n",
    "    for i in range(0, iters):\n",
    "        \n",
    "        theta = theta - np.dot(alpha*X.T, np.dot(X, theta) - y)\n",
    "        J_history[i] = cost_function(X, y, theta)\n",
    "    \n",
    "    return theta, J_history\n",
    "\n",
    "def cost_function(X, y, theta):  \n",
    "    cost = 0\n",
    "    diff = (np.dot(X,theta)-y).T\n",
    "    diff = np.where(abs(diff) < 30, 0, diff)\n",
    "    cost = 0.5*np.dot(diff, diff)\n",
    "    return cost\n",
    "\n",
    "def normalize( M ):\n",
    "    norm_M = M.copy()\n",
    "    mean = np.mean(M[:, 1:].copy(), axis = 0)\n",
    "    std = np.array(np.std(M[:, 1:].copy(), axis = 0))\n",
    "    norm_M[:,1:] = np.divide(np.subtract(norm_M[:,1:], mean), std)\n",
    "    return norm_M"
   ]
  },
  {
   "cell_type": "code",
   "execution_count": 8,
   "metadata": {},
   "outputs": [
    {
     "name": "stderr",
     "output_type": "stream",
     "text": [
      "/Users/Mashka/anaconda3/lib/python3.7/site-packages/ipykernel_launcher.py:29: RuntimeWarning: invalid value encountered in true_divide\n",
      "/Users/Mashka/anaconda3/lib/python3.7/site-packages/ipykernel_launcher.py:21: RuntimeWarning: invalid value encountered in less\n"
     ]
    },
    {
     "name": "stdout",
     "output_type": "stream",
     "text": [
      "Cost function: nan\n",
      "[7.64827956e+107 6.39645854e+175 5.34952751e+243 ...             nan\n",
      "             nan             nan]\n"
     ]
    }
   ],
   "source": [
    "theta_vec_equations, cost = gradient_descent(normalize(X_train), y_train, 0.0000005, 80000)\n",
    "print (\"Cost function: %.2f\" % cost[-1])\n",
    "print(cost)"
   ]
  },
  {
   "cell_type": "code",
   "execution_count": 9,
   "metadata": {},
   "outputs": [
    {
     "name": "stdout",
     "output_type": "stream",
     "text": [
      "accuracy: 30.19 %\n"
     ]
    }
   ],
   "source": [
    "lin_reg = LinearRegression()\n",
    "lin_reg.fit(X_train, y_train)\n",
    "lin_reg.intercept_, lin_reg.coef_\n",
    "\n",
    "prediction = lin_reg.predict(X_test)\n",
    "correct_pred = 0\n",
    "\n",
    "for i in range(len(prediction)):\n",
    "    if  prediction[i] <= y_test[i] + 150 and prediction[i] >= y_test[i] - 150:\n",
    "        correct_pred+=1\n",
    "        \n",
    "print(\"accuracy:\", np.around(correct_pred/len(y_test)*100,2),\"%\")"
   ]
  },
  {
   "cell_type": "code",
   "execution_count": 26,
   "metadata": {},
   "outputs": [],
   "source": [
    "'''\n",
    "    Classification by the outcome\n",
    "    \n",
    "''' \n",
    "\n",
    "X = np.stack([np.ones(m), age, gender, clinical_stage, histological_grade, initial_pathologic_dx_year, tumor_status, new_tumor_event_type, new_tumor_event_dx_days_to], axis=1).astype(int)\n",
    "y = outcome\n",
    "numClasses = 4\n",
    "numTrain = 96\n",
    "numTest = 24\n",
    "\n",
    "class_1 = np.nonzero(y == 0)[0]   \n",
    "class_2 = np.nonzero(y == 1)[0]   \n",
    "class_3 = np.nonzero(y == 2)[0]   # ignoring this one \n",
    "class_4 = np.nonzero(y == 3)[0]  \n",
    "# print(len(class_1),len(class_2),len(class_4),len(class_3))\n",
    "nlen = len(class_2)\n",
    "subset = np.concatenate([class_1[0:len(class_2)], class_2, class_3[0:len(class_2)], class_4[0:len(class_2)]])\n",
    "# print(len(subset))\n",
    "np.random.shuffle(subset)\n",
    "X = X[subset,:]\n",
    "y = y[subset]\n",
    "\n",
    "# Split into test and train\n",
    "train = np.arange(numTrain)\n",
    "test  = numTrain + np.arange(numTest)\n",
    "\n",
    "X_train = X[train,:]\n",
    "y_train = y[train]\n",
    "\n",
    "X_test  = X[test,:]\n",
    "y_test  = y[test]\n",
    "\n"
   ]
  },
  {
   "cell_type": "code",
   "execution_count": 27,
   "metadata": {},
   "outputs": [
    {
     "name": "stderr",
     "output_type": "stream",
     "text": [
      "/Users/Mashka/anaconda3/lib/python3.7/site-packages/scipy/optimize/linesearch.py:462: LineSearchWarning: The line search algorithm did not converge\n",
      "  warn('The line search algorithm did not converge', LineSearchWarning)\n",
      "/Users/Mashka/anaconda3/lib/python3.7/site-packages/scipy/optimize/linesearch.py:313: LineSearchWarning: The line search algorithm did not converge\n",
      "  warn('The line search algorithm did not converge', LineSearchWarning)\n"
     ]
    },
    {
     "name": "stdout",
     "output_type": "stream",
     "text": [
      "accuracy: 70.83 %\n"
     ]
    }
   ],
   "source": [
    "\n",
    "logreg = LogisticRegression(C=1e5,  max_iter=10000, solver='newton-cg', multi_class = 'multinomial')\n",
    "logreg.fit(X_train, y_train.astype('int'))\n",
    "prediction = logreg.predict(X_test)\n",
    "\n",
    "correct_pred = 0\n",
    "for i in range(len(prediction)):\n",
    "    if  prediction[i] == y_test[i]:\n",
    "        correct_pred+=1\n",
    "\n",
    "print(\"accuracy:\", np.around(correct_pred/len(y_test)*100,2),\"%\")\n",
    "        "
   ]
  },
  {
   "cell_type": "code",
   "execution_count": 28,
   "metadata": {},
   "outputs": [
    {
     "name": "stdout",
     "output_type": "stream",
     "text": [
      "Training Set Accuracy: 45.833333\n",
      "    Test Set Accuracy: 41.666667\n",
      "Lambda: 0.000010 Training Set Accuracy: 54.166667\n",
      "Lambda: 0.000010 Test Set Accuracy: 58.333333\n",
      "Lambda: 0.000100 Training Set Accuracy: 54.166667\n",
      "Lambda: 0.000100 Test Set Accuracy: 58.333333\n",
      "Lambda: 0.001000 Training Set Accuracy: 55.208333\n",
      "Lambda: 0.001000 Test Set Accuracy: 58.333333\n",
      "Lambda: 0.010000 Training Set Accuracy: 54.166667\n",
      "Lambda: 0.010000 Test Set Accuracy: 58.333333\n",
      "Lambda: 0.100000 Training Set Accuracy: 55.208333\n",
      "Lambda: 0.100000 Test Set Accuracy: 58.333333\n",
      "Lambda: 1.000000 Training Set Accuracy: 55.208333\n",
      "Lambda: 1.000000 Test Set Accuracy: 58.333333\n",
      "Lambda: 10.000000 Training Set Accuracy: 47.916667\n",
      "Lambda: 10.000000 Test Set Accuracy: 41.666667\n",
      "Lambda: 100.000000 Training Set Accuracy: 45.833333\n",
      "Lambda: 100.000000 Test Set Accuracy: 41.666667\n",
      "Lambda: 1000.000000 Training Set Accuracy: 36.458333\n",
      "Lambda: 1000.000000 Test Set Accuracy: 20.833333\n",
      "Lambda: 10000.000000 Training Set Accuracy: 33.333333\n",
      "Lambda: 10000.000000 Test Set Accuracy: 20.833333\n",
      "Lambda: 100000.000000 Training Set Accuracy: 32.291667\n",
      "Lambda: 100000.000000 Test Set Accuracy: 20.833333\n"
     ]
    },
    {
     "data": {
      "image/png": "[encoded data removed]",
      "text/plain": [
       "<Figure size 432x288 with 1 Axes>"
      ]
     },
     "metadata": {
      "needs_background": "light"
     },
     "output_type": "display_data"
    }
   ],
   "source": [
    "lambda_val = 100\n",
    "weight_vectors, intercepts = train_one_vs_all(X_train, y_train, 3, lambda_val)\n",
    "pred_train = predict_one_vs_all(X_train, weight_vectors, intercepts)\n",
    "pred_test  = predict_one_vs_all(X_test,  weight_vectors, intercepts)\n",
    "print(\"Training Set Accuracy: %f\" % (np.mean(pred_train == y_train) * 100))\n",
    "print(\"    Test Set Accuracy: %f\" % (np.mean( pred_test == y_test) * 100))\n",
    "\n",
    "lambda_vals = 10.0 ** np.linspace(-5,5,11)\n",
    "num_classes = 10\n",
    "\n",
    "test_acc = np.zeros(lambda_vals.size)\n",
    "train_acc = np.zeros(lambda_vals.size)\n",
    "\n",
    "for i in range(lambda_vals.size): \n",
    "    weight_vectors, intercepts = train_one_vs_all(X_train, y_train, 3, lambda_vals[i])\n",
    "    pred_train = predict_one_vs_all(X_train, weight_vectors, intercepts)\n",
    "    pred_test  = predict_one_vs_all(X_test,  weight_vectors, intercepts)\n",
    "\n",
    "    print(\"Lambda: %f\" % lambda_vals[i], \"Training Set Accuracy: %f\" % (np.mean(pred_train == y_train) * 100))\n",
    "    print(\"Lambda: %f\" %  lambda_vals[i] , \"Test Set Accuracy: %f\" % (np.mean( pred_test == y_test) * 100))\n",
    "    train_acc[i] = np.mean(pred_train == y_train) * 100\n",
    "    test_acc[i] = np.mean( pred_test == y_test) * 100\n",
    "    \n",
    "plt.xlabel('lambda (log10)')\n",
    "plt.ylabel('accuracy')\n",
    "plt.xscale('log')\n",
    "plt.plot(lambda_vals, train_acc, 'bo', linestyle='dashed')\n",
    "plt.plot(lambda_vals, test_acc, 'go', linestyle='dashed')\n",
    "plt.legend(('train', 'test')) #if you use this legend, make sure you plot the training data first and then the test data\n",
    "plt.show()\n"
   ]
  },
  {
   "cell_type": "code",
   "execution_count": null,
   "metadata": {},
   "outputs": [],
   "source": []
  }
 ],
 "metadata": {
  "kernelspec": {
   "display_name": "Python 3",
   "language": "python",
   "name": "python3"
  },
  "language_info": {
   "codemirror_mode": {
    "name": "ipython",
    "version": 3
   },
   "file_extension": ".py",
   "mimetype": "text/x-python",
   "name": "python",
   "nbconvert_exporter": "python",
   "pygments_lexer": "ipython3",
   "version": "3.7.3"
  }
 },
 "nbformat": 4,
 "nbformat_minor": 2
}
