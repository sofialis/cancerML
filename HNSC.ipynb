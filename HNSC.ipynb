{
 "cells": [
  {
   "cell_type": "code",
   "execution_count": 2,
   "metadata": {},
   "outputs": [],
   "source": [
    "%matplotlib inline\n",
    "%reload_ext autoreload\n",
    "%autoreload 2\n",
    "\n",
    "import numpy as np\n",
    "import matplotlib.pyplot as plt\n",
    "import pandas as pd\n",
    "from classifier import train_one_vs_all, predict_one_vs_all\n",
    "from logistic_regression import logistic, nll_cost_function, gradient_descent\n"
   ]
  },
  {
   "cell_type": "code",
   "execution_count": 3,
   "metadata": {},
   "outputs": [
    {
     "name": "stdout",
     "output_type": "stream",
     "text": [
      "(347, 11)\n"
     ]
    }
   ],
   "source": [
    "np_data = pd.read_csv('HNSC.csv',keep_default_na=False, sep=';',header=None, encoding = \"utf-8\").values\n",
    "\n",
    "# age \n",
    "age = np_data[:,2].astype(int)\n",
    "\n",
    "# gender\n",
    "gender = np_data[:,3]\n",
    "gender = np.array([l == 'FEMALE' for l in gender]).astype('int') #0 man, 1 woman\n",
    "\n",
    "# ajcc_pathologic_tumor_stage\n",
    "tumor_stage = np_data[:,4]\n",
    "tumor_stage = np.where(tumor_stage==\"Stage I\", 0, tumor_stage)\n",
    "tumor_stage = np.where(tumor_stage==\"Stage II\", 1, tumor_stage)\n",
    "tumor_stage = np.where(tumor_stage==\"Stage III\", 2, tumor_stage)\n",
    "tumor_stage = np.where(tumor_stage==\"Stage IVA\", 3, tumor_stage)\n",
    "tumor_stage = np.where(tumor_stage==\"Stage IVB\", 4, tumor_stage)\n",
    "\n",
    "# clinical_stage\n",
    "clinical_stage = np_data[:,5]\n",
    "clinical_stage = np.where(clinical_stage==\"Stage I\", 0, clinical_stage)\n",
    "clinical_stage = np.where(clinical_stage==\"Stage II\", 1, clinical_stage)\n",
    "clinical_stage = np.where(clinical_stage==\"Stage III\", 2, clinical_stage)\n",
    "clinical_stage = np.where(clinical_stage==\"Stage IVA\", 3, clinical_stage)\n",
    "clinical_stage = np.where(clinical_stage==\"Stage IVB\", 4, clinical_stage)\n",
    "clinical_stage = np.where(clinical_stage==\"Stage IVC\", 5, clinical_stage)\n",
    "\n",
    "# histological_type\n",
    "histological_type = np_data[:,6] # ignore, they are all the same\n",
    "\n",
    "# histological_grade\n",
    "histological_grade = np_data[:,7] \n",
    "histological_grade = np.where(histological_grade==\"G1\", 0, histological_grade)\n",
    "histological_grade = np.where(histological_grade==\"G2\", 1, histological_grade)\n",
    "histological_grade = np.where(histological_grade==\"G3\", 2, histological_grade)\n",
    "histological_grade = np.where(histological_grade==\"G4\", 3, histological_grade)\n",
    "histological_grade = np.where(histological_grade==\"GX\", 4, histological_grade)\n",
    "\n",
    "# initial_pathologic_dx_year\n",
    "initial_pathologic_dx_year = np_data[:,8].astype(int)\n",
    "\n",
    "# vital_status\n",
    "vital_status = np_data[:,9]\n",
    "vital_status = np.array([l == 'Alive' for l in vital_status]).astype('int') #0 Dead, 1 Alive\n",
    "\n",
    "# tumor_status\n",
    "tumor_status = np_data[:,10] \n",
    "tumor_status = np.array([l == 'WITH TUMOR' for l in tumor_status]).astype('int') #0 no tum, 1 with tum\n",
    "\n",
    "# death_days_to\n",
    "death_days_to = np_data[:, 11] \n",
    "\n",
    "# new_tumor_event_type\n",
    "new_tumor_event_type = np_data[:,12] # N/A - 0, other - 1\n",
    "new_tumor_event_type = np.array([l != '#N/A' for l in new_tumor_event_type]).astype('int') #0 no tum, 1 with tum\n",
    "\n",
    "# new_tumor_event_site\n",
    "new_tumor_event_site = np_data[:,13]\n",
    "new_tumor_event_site = np.array([l != '#N/A' for l in new_tumor_event_site]).astype('int') #0 no tum, 1 with tum\n",
    "\n",
    "#new_tumor_event_site_other\n",
    "\n",
    "#new_tumor_event_dx_days_to\n",
    "new_tumor_event_dx_days_to = np_data[:,15]\n",
    "new_tumor_event_dx_days_to = np.where(new_tumor_event_dx_days_to==\"#N/A\", 0 , new_tumor_event_dx_days_to).astype(int)\n",
    "\n",
    "# treatment_outcome_first_course\n",
    "\n",
    "outcome = np_data[:,16];\n",
    "outcome = np.where(outcome==\"Complete Remission/Response\", 0, outcome)\n",
    "outcome = np.where(outcome==\"Partial Remission/Response\", 3, outcome)\n",
    "outcome = np.where(outcome==\"Progressive Disease\", 2, outcome)\n",
    "outcome = np.where(outcome==\"Stable Disease\", 1, outcome)\n",
    "outcome = np.where(outcome==\"Persistent Disease\", 4, outcome)\n",
    "\n",
    "m = np_data.shape[0]\n",
    "X = np.stack([np.ones(m), age, gender, tumor_stage,histological_grade, clinical_stage, initial_pathologic_dx_year, tumor_status, new_tumor_event_type,new_tumor_event_site, new_tumor_event_dx_days_to], axis=1).astype(int)\n",
    "n = X.shape[1]\n",
    "print(X.shape)"
   ]
  },
  {
   "cell_type": "code",
   "execution_count": 4,
   "metadata": {},
   "outputs": [
    {
     "name": "stdout",
     "output_type": "stream",
     "text": [
      "accuracy: 58.33 %\n"
     ]
    },
    {
     "name": "stderr",
     "output_type": "stream",
     "text": [
      "C:\\Users\\Sofia\\Desktop\\QUARNOTES\\Machine Learning\\cancers\\logistic_regression.py:14: RuntimeWarning: overflow encountered in power\n",
      "  denum = ones_z.copy() + np.power(exp, -z)\n",
      "C:\\Users\\Sofia\\Desktop\\QUARNOTES\\Machine Learning\\cancers\\logistic_regression.py:32: RuntimeWarning: divide by zero encountered in log\n",
      "  cost = -np.dot(y, np.log(h)) - np.dot((1-y), np.log(1 - h))\n"
     ]
    }
   ],
   "source": [
    "theta = np.ones(n)\n",
    "iters = 200\n",
    "y = vital_status\n",
    "X = np.stack([np.ones(m), age, gender, tumor_stage,histological_grade, clinical_stage, initial_pathologic_dx_year, tumor_status, new_tumor_event_type,new_tumor_event_site, new_tumor_event_dx_days_to], axis=1).astype(int)\n",
    "\n",
    "dead = np.nonzero(vital_status == 0)[0]\n",
    "alive = np.nonzero(vital_status == 1)[0]\n",
    "subset = np.concatenate([dead, alive[0:len(dead)] ])\n",
    "np.random.shuffle(subset)\n",
    "\n",
    "X = X[subset,:]\n",
    "y = y[subset]\n",
    "\n",
    "numTrain = 196\n",
    "numTest = 48\n",
    "\n",
    "train = np.arange(numTrain)\n",
    "test  = numTrain + np.arange(numTest)\n",
    "\n",
    "X_train = X[train,:]\n",
    "y_train = y[train]\n",
    "\n",
    "X_test  = X[test,:]\n",
    "y_test  = y[test]\n",
    "\n",
    "theta, J = gradient_descent(X_train, y_train, theta, 0.0001, iters)\n",
    "y_predict = np.zeros(len(y_test))\n",
    "correct_pred = 0\n",
    "result = logistic(np.dot(X_test,theta))\n",
    "y_predict =  np.where(result < 0.5, 0, result)\n",
    "y_predict =  np.where(y_predict >= 0.5, 1, y_predict)\n",
    "\n",
    "for i in range(len(y_test)):\n",
    "    if  y_predict[i] == y_test[i]:\n",
    "        correct_pred+=1\n",
    "\n",
    "print(\"accuracy:\", np.around(correct_pred/len(y_test)*100,2),\"%\")"
   ]
  },
  {
   "cell_type": "code",
   "execution_count": 11,
   "metadata": {},
   "outputs": [
    {
     "name": "stdout",
     "output_type": "stream",
     "text": [
      "(244, 11)\n",
      "accuracy: 87.5 %\n"
     ]
    }
   ],
   "source": [
    "from sklearn.linear_model import LogisticRegression\n",
    "lr = LogisticRegression(C = 10e15, max_iter=1000, solver='liblinear')\n",
    "\n",
    "y = vital_status\n",
    "X = np.stack([np.ones(m), age, gender, tumor_stage,histological_grade, clinical_stage, initial_pathologic_dx_year, tumor_status, new_tumor_event_type,new_tumor_event_site, new_tumor_event_dx_days_to], axis=1).astype(int)\n",
    "\n",
    "numTrain = 196\n",
    "numTest = 48\n",
    "\n",
    "dead = np.nonzero(vital_status == 0)[0]\n",
    "alive = np.nonzero(vital_status == 1)[0]\n",
    "subset = np.concatenate([dead, alive[0:len(dead)] ])\n",
    "\n",
    "np.random.shuffle(subset)\n",
    "\n",
    "X = X[subset,:]\n",
    "y = y[subset]\n",
    "\n",
    "print(X.shape)\n",
    "train = np.arange(numTrain)\n",
    "test  = numTrain + np.arange(numTest)\n",
    "\n",
    "X_train = X[train,:]\n",
    "y_train = y[train]\n",
    "\n",
    "X_test  = X[test,:]\n",
    "y_test  = y[test]\n",
    "\n",
    "lr.fit(X_train, y_train)\n",
    "prediction = lr.predict(X_test)\n",
    "\n",
    "from sklearn.metrics import classification_report, confusion_matrix\n",
    "\n",
    "correct_pred = 0\n",
    "for i in range(len(prediction)):\n",
    "    if  prediction[i] == y_test[i]:\n",
    "        correct_pred+=1\n",
    "cnf_matrix = confusion_matrix(y_test, prediction)\n",
    "\n",
    "print(\"accuracy:\", np.around(correct_pred/len(y_test)*100,2),\"%\")"
   ]
  },
  {
   "cell_type": "code",
   "execution_count": 12,
   "metadata": {},
   "outputs": [
    {
     "data": {
      "text/plain": [
       "Text(0.5, 257.44, 'Predicted label')"
      ]
     },
     "execution_count": 12,
     "metadata": {},
     "output_type": "execute_result"
    },
    {
     "data": {
      "image/png": "[encoded data removed]",
      "text/plain": [
       "<Figure size 432x288 with 2 Axes>"
      ]
     },
     "metadata": {
      "needs_background": "light"
     },
     "output_type": "display_data"
    }
   ],
   "source": [
    "import seaborn as sns\n",
    "\n",
    "class_names=[0, 1] # name  of classes\n",
    "names = [\"Dead\", \"Alive\"]\n",
    "\n",
    "fig, ax = plt.subplots()\n",
    "tick_marks = np.arange(len(class_names))\n",
    "plt.xticks(tick_marks, names)\n",
    "plt.yticks(tick_marks, names)\n",
    "# create heatmap\n",
    "sns.heatmap(pd.DataFrame(cnf_matrix), annot=True, cmap=\"YlGnBu\" ,fmt='g')\n",
    "ax.xaxis.set_label_position(\"top\")\n",
    "plt.tight_layout()\n",
    "plt.title('Confusion matrix', y=1.1)\n",
    "plt.ylabel('Actual label')\n",
    "plt.xlabel('Predicted label')"
   ]
  },
  {
   "cell_type": "code",
   "execution_count": 18,
   "metadata": {},
   "outputs": [
    {
     "name": "stdout",
     "output_type": "stream",
     "text": [
      "(122, 11)\n"
     ]
    }
   ],
   "source": [
    "# choose only dead ones \n",
    "dead = np.nonzero(vital_status == 0)[0] # indices of dead people\n",
    "np.random.shuffle(dead)\n",
    "y = death_days_to[dead].astype('int') # get all y's\n",
    "X = np.stack([np.ones(m), age, gender, tumor_stage,histological_grade, clinical_stage, initial_pathologic_dx_year, tumor_status, new_tumor_event_type,new_tumor_event_site, new_tumor_event_dx_days_to], axis=1).astype(int)\n",
    "X = X[dead, :]\n",
    "\n",
    "print(X.shape)\n",
    "\n",
    "numTrain    = 98\n",
    "numTest     = 24\n",
    "\n",
    "train = np.arange(numTrain)\n",
    "test  = numTrain + np.arange(numTest)\n",
    "\n",
    "X_train = X[train,:]\n",
    "y_train = y[train]\n",
    "\n",
    "X_test  = X[test,:]\n",
    "y_test  = y[test]\n",
    "\n"
   ]
  },
  {
   "cell_type": "code",
   "execution_count": 19,
   "metadata": {},
   "outputs": [],
   "source": [
    "# regression\n",
    "def gradient_descent( X, y, alpha, iters, theta=None ):\n",
    "\n",
    "    m,n = X.shape\n",
    "    \n",
    "    if theta is None:\n",
    "        theta = np.ones(n)\n",
    "    \n",
    "    J_history = np.ones(iters)\n",
    "\n",
    "    for i in range(0, iters):\n",
    "        \n",
    "        theta = theta - np.dot(alpha*X.T, np.dot(X, theta) - y)\n",
    "        J_history[i] = cost_function(X, y, theta)\n",
    "    \n",
    "    return theta, J_history\n",
    "\n",
    "def cost_function(X, y, theta):  \n",
    "    cost = 0\n",
    "    diff = (np.dot(X,theta)-y).T\n",
    "    diff = np.where(abs(diff) < 30, 0, diff)\n",
    "    cost = 0.5*np.dot(diff, diff)\n",
    "    return cost\n",
    "\n",
    "def normalize( M ):\n",
    "    norm_M = M.copy()\n",
    "    mean = np.mean(M[:, 1:].copy(), axis = 0)\n",
    "    std = np.array(np.std(M[:, 1:].copy(), axis = 0))\n",
    "    norm_M[:,1:] = np.divide(np.subtract(norm_M[:,1:], mean), std)\n",
    "    return norm_M"
   ]
  },
  {
   "cell_type": "code",
   "execution_count": 20,
   "metadata": {},
   "outputs": [
    {
     "name": "stdout",
     "output_type": "stream",
     "text": [
      "Cost function: 16616875.04\n",
      "[22186635.811225   19622292.8942904  18505435.31179162 ...\n",
      " 16616875.04059668 16616875.04059668 16616875.04059668]\n"
     ]
    }
   ],
   "source": [
    "theta_vec_equations, cost = gradient_descent(normalize(X_train), y_train, 0.005, 40000)\n",
    "print (\"Cost function: %.2f\" % cost[-1])\n",
    "print(cost)"
   ]
  },
  {
   "cell_type": "code",
   "execution_count": 21,
   "metadata": {},
   "outputs": [
    {
     "name": "stdout",
     "output_type": "stream",
     "text": [
      "0.4166666666666667\n"
     ]
    }
   ],
   "source": [
    "from sklearn.linear_model import LinearRegression\n",
    "lin_reg = LinearRegression()\n",
    "lin_reg.fit(X_train, y_train)\n",
    "lin_reg.intercept_, lin_reg.coef_\n",
    "\n",
    "prediction = lin_reg.predict(X_test)\n",
    "correct_pred = 0\n",
    "\n",
    "for i in range(len(prediction)):\n",
    "    if  prediction[i] <= y_test[i] + 150 and prediction[i] >= y_test[i] - 150:\n",
    "        correct_pred+=1\n",
    "        \n",
    "print(correct_pred/len(prediction))"
   ]
  },
  {
   "cell_type": "code",
   "execution_count": 28,
   "metadata": {},
   "outputs": [],
   "source": [
    "'''\n",
    "    Classification by the outcome\n",
    "    \n",
    "''' \n",
    "\n",
    "X = np.stack([np.ones(m), age, gender, tumor_stage, initial_pathologic_dx_year, tumor_status, new_tumor_event_type,new_tumor_event_site, new_tumor_event_dx_days_to], axis=1).astype(int)\n",
    "y = outcome\n",
    "numClasses = 2\n",
    "numTrain = 55 \n",
    "numTest = 13\n",
    "\n",
    "class_1 = np.nonzero(y == 0)[0]   \n",
    "class_2 = np.nonzero(y == 1)[0]   # ignoring this one\n",
    "class_3 = np.nonzero(y == 2)[0]   \n",
    "class_4 = np.nonzero(y == 3)[0]   # ignoring this one\n",
    "class_5 = np.nonzero(y == 4)[0]   # ignoring this one\n",
    "\n",
    "subset = np.concatenate([class_1[0:len(class_3)], class_3])\n",
    "np.random.shuffle(subset)\n",
    "X = X[subset,:]\n",
    "y = y[subset]\n",
    "\n",
    "# Split into test and train\n",
    "train = np.arange(numTrain)\n",
    "test  = numTrain + np.arange(numTest)\n",
    "\n",
    "X_train = X[train,:]\n",
    "y_train = y[train]\n",
    "\n",
    "X_test  = X[test,:]\n",
    "y_test  = y[test]\n",
    "\n"
   ]
  },
  {
   "cell_type": "code",
   "execution_count": 38,
   "metadata": {},
   "outputs": [
    {
     "name": "stdout",
     "output_type": "stream",
     "text": [
      "accuracy: 92.31 %\n"
     ]
    },
    {
     "data": {
      "text/plain": [
       "Text(0.5, 257.44, 'Predicted label')"
      ]
     },
     "execution_count": 38,
     "metadata": {},
     "output_type": "execute_result"
    },
    {
     "data": {
      "image/png": "[encoded data removed]",
      "text/plain": [
       "<Figure size 432x288 with 2 Axes>"
      ]
     },
     "metadata": {
      "needs_background": "light"
     },
     "output_type": "display_data"
    }
   ],
   "source": [
    "from sklearn.linear_model import LogisticRegression\n",
    "lr = LogisticRegression(C = 10e15, max_iter=1000, solver='liblinear')\n",
    "lr.fit(X_train, y_train.astype('int'))\n",
    "prediction = lr.predict(X_test)\n",
    "\n",
    "from sklearn.metrics import classification_report, confusion_matrix\n",
    "\n",
    "correct_pred = 0\n",
    "for i in range(len(prediction)):\n",
    "    if  prediction[i] == y_test[i]:\n",
    "        correct_pred+=1\n",
    "cnf_matrix = confusion_matrix(y_test.astype('int'), prediction)\n",
    "\n",
    "print(\"accuracy:\", np.around(correct_pred/len(y_test)*100,2),\"%\")\n",
    "import seaborn as sns\n",
    "\n",
    "class_names=[0, 1] # name  of classes\n",
    "names = [\"Dead\", \"Alive\"]\n",
    "\n",
    "fig, ax = plt.subplots()\n",
    "tick_marks = np.arange(len(class_names))\n",
    "plt.xticks(tick_marks, names)\n",
    "plt.yticks(tick_marks, names)\n",
    "# create heatmap\n",
    "sns.heatmap(pd.DataFrame(cnf_matrix), annot=True, cmap=\"YlGnBu\" ,fmt='g')\n",
    "ax.xaxis.set_label_position(\"top\")\n",
    "plt.tight_layout()\n",
    "plt.title('Confusion matrix', y=1.1)\n",
    "plt.ylabel('Actual label')\n",
    "plt.xlabel('Predicted label')"
   ]
  }
 ],
 "metadata": {
  "kernelspec": {
   "display_name": "Python 3",
   "language": "python",
   "name": "python3"
  },
  "language_info": {
   "codemirror_mode": {
    "name": "ipython",
    "version": 3
   },
   "file_extension": ".py",
   "mimetype": "text/x-python",
   "name": "python",
   "nbconvert_exporter": "python",
   "pygments_lexer": "ipython3",
   "version": "3.7.3"
  }
 },
 "nbformat": 4,
 "nbformat_minor": 2
}
