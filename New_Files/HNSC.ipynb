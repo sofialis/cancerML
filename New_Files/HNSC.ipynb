{
 "cells": [
  {
   "cell_type": "code",
   "execution_count": 1,
   "metadata": {
    "scrolled": false
   },
   "outputs": [
    {
     "name": "stdout",
     "output_type": "stream",
     "text": [
      "importing Jupyter notebook from cancer_helper.ipynb\n",
      "importing Jupyter notebook from init_data.ipynb\n"
     ]
    }
   ],
   "source": [
    "# Import the libraries\n",
    "%matplotlib inline\n",
    "%reload_ext autoreload\n",
    "%autoreload 2\n",
    "\n",
    "import warnings\n",
    "warnings.filterwarnings(\"ignore\")\n",
    "import numpy as np\n",
    "import pandas as pd\n",
    "import import_ipynb\n",
    "from cancer_helper import *\n",
    "from init_data import *"
   ]
  },
  {
   "cell_type": "code",
   "execution_count": 2,
   "metadata": {
    "scrolled": false
   },
   "outputs": [],
   "source": [
    "# Process the CSV data and put it into X as features\n",
    "np_data = pd.read_csv('HNSC.csv',keep_default_na=False, sep=';',header=None, encoding = \"utf-8\").values\n",
    "X, feature_labels, vital_status, death_days_to, outcome = init_data_HNSC(np_data)\n",
    "num_groups = 5"
   ]
  },
  {
   "cell_type": "markdown",
   "metadata": {},
   "source": [
    "**Logistic Regression (vital status, in-class model)**"
   ]
  },
  {
   "cell_type": "code",
   "execution_count": 3,
   "metadata": {
    "scrolled": false
   },
   "outputs": [
    {
     "name": "stdout",
     "output_type": "stream",
     "text": [
      "In class model:\n",
      "Average train final cost: nan\n",
      "Average train accuracy: 34.04 %\n",
      "Average train F1 score: 0.37\n",
      "Average test accuracy: 34.72 %\n",
      "Average test F1 score: 0.40\n",
      "\n",
      "Scikit model:\n",
      "Average train final cost: 6.90\n",
      "Average train accuracy: 80.03 %\n",
      "Average train F1 score: 0.76\n",
      "Average test final cost: 8.88\n",
      "Average test accuracy: 74.30 %\n",
      "Average test F1 score: 0.76\n",
      "\n",
      "Highest average weights:\n",
      "tumor_status : 11.78\n",
      "tumor_stage : 3.71\n",
      "new_tumor_event_type : 3.27\n"
     ]
    }
   ],
   "source": [
    "y = vital_status\n",
    "\n",
    "iters = 200 # recommended 40000\n",
    "alpha = 0.00000001\n",
    "\n",
    "vital_status_train(X, y, alpha, iters, num_groups, feature_labels)"
   ]
  },
  {
   "cell_type": "markdown",
   "metadata": {},
   "source": [
    "**Linear Regression (days until death, in-class + sklearn model)**"
   ]
  },
  {
   "cell_type": "code",
   "execution_count": 4,
   "metadata": {
    "scrolled": false
   },
   "outputs": [
    {
     "name": "stdout",
     "output_type": "stream",
     "text": [
      "In-class model:\n",
      "Average final cost: 14473502.64\n",
      "\n",
      "Scikit model:\n",
      "Average train accuracy: 44.66 %\n",
      "Average test accuracy: 33.60 %\n"
     ]
    }
   ],
   "source": [
    "dead = np.nonzero(vital_status == 0)[0]\n",
    "y = death_days_to[dead].astype('int')\n",
    "X_death = X[dead, :]\n",
    "iters = 5000\n",
    "alpha = 0.005\n",
    "\n",
    "death_days_to_train(X_death, y, alpha, iters, num_groups)"
   ]
  },
  {
   "cell_type": "markdown",
   "metadata": {},
   "source": [
    "**Multivariable Regression (outcome, in-class model)**"
   ]
  },
  {
   "cell_type": "code",
   "execution_count": 5,
   "metadata": {
    "scrolled": false
   },
   "outputs": [
    {
     "name": "stdout",
     "output_type": "stream",
     "text": [
      "Samples of class 0 : 302\n",
      "Samples of class 1 : 4\n",
      "Samples of class 2 : 34\n",
      "Samples of class 3 : 4\n",
      "Samples of class 4 : 3\n",
      "\n",
      "In class model:\n",
      "Logistic regression:\n",
      "Average train final cost: nan\n",
      "Average train accuracy: 58.07 %\n",
      "Average train F1 score: 0.58\n",
      "Average test accuracy: 61.67 %\n",
      "Average test F1 score: 0.62\n",
      "\n",
      "One vs all:\n",
      "Average train accuracy: 88.62 %\n",
      "Average train F1 score: 0.89\n",
      "Average test accuracy: 82.86 %\n",
      "Average test F1 score: 0.83\n",
      "\n",
      "Scikit model:\n",
      "Average train accuracy: 88.64 %\n",
      "Average train F1 score: 0.89\n",
      "Average test accuracy: 84.29 %\n",
      "Average test F1 score: 0.84\n",
      "\n",
      "Highest average weights:\n",
      "tumor_status : 13.27\n",
      "new_tumor_event_type : 4.45\n",
      "tumor_stage : 2.91\n"
     ]
    },
    {
     "data": {
      "image/png": "[encoded data removed]",
      "text/plain": [
       "<Figure size 432x288 with 1 Axes>"
      ]
     },
     "metadata": {
      "needs_background": "light"
     },
     "output_type": "display_data"
    }
   ],
   "source": [
    "y = outcome\n",
    "lambda_val = 0.1\n",
    "interested_in = [0, 2]\n",
    "\n",
    "# print_num_samples(y)\n",
    "outcome_train(X, y, interested_in, lambda_val, num_groups, feature_labels)"
   ]
  },
  {
   "cell_type": "code",
   "execution_count": null,
   "metadata": {
    "scrolled": false
   },
   "outputs": [],
   "source": []
  }
 ],
 "metadata": {
  "kernelspec": {
   "display_name": "Python 3",
   "language": "python",
   "name": "python3"
  },
  "language_info": {
   "codemirror_mode": {
    "name": "ipython",
    "version": 3
   },
   "file_extension": ".py",
   "mimetype": "text/x-python",
   "name": "python",
   "nbconvert_exporter": "python",
   "pygments_lexer": "ipython3",
   "version": "3.7.3"
  }
 },
 "nbformat": 4,
 "nbformat_minor": 2
}
