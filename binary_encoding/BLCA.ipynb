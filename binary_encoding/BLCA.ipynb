{
 "cells": [
  {
   "cell_type": "code",
   "execution_count": null,
   "metadata": {
    "scrolled": true
   },
   "outputs": [],
   "source": [
    "# Import the libraries\n",
    "%matplotlib inline\n",
    "%reload_ext autoreload\n",
    "%autoreload 2\n",
    "\n",
    "import warnings\n",
    "import numpy as np\n",
    "import pandas as pd\n",
    "import import_ipynb\n",
    "from helper.init_data import *\n",
    "from helper.functions import *\n",
    "\n",
    "warnings.filterwarnings(\"ignore\")\n",
    "\n",
    "# Process the CSV data and put it into X as features\n",
    "np_data = pd.read_csv('csv/BLCA.csv',keep_default_na=False, sep=';',header=None, encoding = \"utf-8\").values\n",
    "X, feature_labels, vital_status, life_expectancy, outcome = init_data_BLCA(np_data)"
   ]
  },
  {
   "cell_type": "markdown",
   "metadata": {},
   "source": [
    "# **Vital Status**"
   ]
  },
  {
   "cell_type": "code",
   "execution_count": null,
   "metadata": {},
   "outputs": [],
   "source": [
    "y = vital_status\n",
    "iters = 500 # recommended 40000\n",
    "alpha = 0.00000001\n",
    "\n",
    "vital_status_train(X, y, alpha, iters, feature_labels)"
   ]
  },
  {
   "cell_type": "markdown",
   "metadata": {},
   "source": [
    "# **Life Expectancy**"
   ]
  },
  {
   "cell_type": "code",
   "execution_count": null,
   "metadata": {
    "scrolled": true
   },
   "outputs": [],
   "source": [
    "dead = np.nonzero(vital_status == 0)[0]\n",
    "y = life_expectancy[dead].astype('int')\n",
    "X_death = X[dead, :]\n",
    "iters = 4000\n",
    "alpha = 0.005\n",
    "\n",
    "life_expectancy_train(X_death, y, alpha, iters)"
   ]
  },
  {
   "cell_type": "markdown",
   "metadata": {},
   "source": [
    "# **Disease Outcome**"
   ]
  },
  {
   "cell_type": "code",
   "execution_count": null,
   "metadata": {},
   "outputs": [],
   "source": [
    "y = outcome\n",
    "lambda_val = 1\n",
    "interested_in = [0, 1, 2] # cutoff is 5.4\n",
    "\n",
    "print_num_samples(y)\n",
    "#outcome_train(X, y, interested_in, lambda_val, feature_labels)"
   ]
  },
  {
   "cell_type": "code",
   "execution_count": null,
   "metadata": {},
   "outputs": [],
   "source": []
  }
 ],
 "metadata": {
  "kernelspec": {
   "display_name": "Python 3",
   "language": "python",
   "name": "python3"
  },
  "language_info": {
   "codemirror_mode": {
    "name": "ipython",
    "version": 3
   },
   "file_extension": ".py",
   "mimetype": "text/x-python",
   "name": "python",
   "nbconvert_exporter": "python",
   "pygments_lexer": "ipython3",
   "version": "3.7.3"
  }
 },
 "nbformat": 4,
 "nbformat_minor": 2
}
