{
 "cells": [
  {
   "cell_type": "code",
   "execution_count": 1,
   "metadata": {
    "scrolled": true
   },
   "outputs": [
    {
     "name": "stdout",
     "output_type": "stream",
     "text": [
      "importing Jupyter notebook from C:\\Users\\Sofia\\Desktop\\cancerML\\binary_encoding\\helper\\init_data.ipynb\n",
      "importing Jupyter notebook from C:\\Users\\Sofia\\Desktop\\cancerML\\binary_encoding\\helper\\functions.ipynb\n"
     ]
    }
   ],
   "source": [
    "# Import the libraries\n",
    "%matplotlib inline\n",
    "%reload_ext autoreload\n",
    "%autoreload 2\n",
    "\n",
    "import warnings\n",
    "import numpy as np\n",
    "import pandas as pd\n",
    "import import_ipynb\n",
    "from helper.init_data import *\n",
    "from helper.functions import *\n",
    "\n",
    "warnings.filterwarnings(\"ignore\")"
   ]
  },
  {
   "cell_type": "code",
   "execution_count": 2,
   "metadata": {
    "scrolled": true
   },
   "outputs": [],
   "source": [
    "# Process the CSV data and put it into X as features\n",
    "np_data = pd.read_csv('csv/BLCA.csv',keep_default_na=False, sep=';',header=None, encoding = \"utf-8\").values\n",
    "X, feature_labels, vital_status, death_days_to, outcome = init_data_BLCA(np_data)"
   ]
  },
  {
   "cell_type": "markdown",
   "metadata": {},
   "source": [
    "**Vital status**"
   ]
  },
  {
   "cell_type": "code",
   "execution_count": 3,
   "metadata": {},
   "outputs": [
    {
     "name": "stdout",
     "output_type": "stream",
     "text": [
      "Logistic Regression (manual):\n",
      "Average train final cost: nan\n",
      "Average train accuracy: 33.72 %\n",
      "Average train F1 score: 0.34\n",
      "Average test accuracy: 34.91 %\n",
      "Average test F1 score: 0.35\n"
     ]
    },
    {
     "data": {
      "image/png": "[encoded data removed]",
      "text/plain": [
       "<Figure size 432x288 with 2 Axes>"
      ]
     },
     "metadata": {
      "needs_background": "light"
     },
     "output_type": "display_data"
    },
    {
     "name": "stdout",
     "output_type": "stream",
     "text": [
      "Logistic Regression (scikit):\n",
      "Average train final cost: 7.25\n",
      "Average train accuracy: 79.01 %\n",
      "Average train F1 score: 0.82\n",
      "Average test final cost: 7.61\n",
      "Average test accuracy: 77.98 %\n",
      "Average test F1 score: 0.81\n",
      "Average Gaussian Naive Bayes accuracy: 75.95 %\n",
      "Average Gaussian Naive Bayes F1 score: 0.76\n"
     ]
    },
    {
     "data": {
      "image/png": "[encoded data removed]",
      "text/plain": [
       "<Figure size 432x288 with 2 Axes>"
      ]
     },
     "metadata": {
      "needs_background": "light"
     },
     "output_type": "display_data"
    },
    {
     "name": "stdout",
     "output_type": "stream",
     "text": [
      "\n",
      "Highest average weights (absolute values):\n",
      "tumor_status : 11.96\n",
      "new_tumor_event_type : 1.52\n",
      "age : 0.29\n"
     ]
    }
   ],
   "source": [
    "y = vital_status\n",
    "iters = 500 # recommended 40000\n",
    "alpha = 0.00000001\n",
    "\n",
    "vital_status_train(X, y, alpha, iters, feature_labels)"
   ]
  },
  {
   "cell_type": "markdown",
   "metadata": {},
   "source": [
    "**Death days to**"
   ]
  },
  {
   "cell_type": "code",
   "execution_count": null,
   "metadata": {
    "scrolled": true
   },
   "outputs": [],
   "source": [
    "dead = np.nonzero(vital_status == 0)[0]\n",
    "y = death_days_to[dead].astype('int')\n",
    "X_death = X[dead, :]\n",
    "iters = 4000\n",
    "alpha = 0.005\n",
    "\n",
    "death_days_to_train(X_death, y, alpha, iters, num_groups)"
   ]
  },
  {
   "cell_type": "markdown",
   "metadata": {},
   "source": [
    "**Outcome**"
   ]
  },
  {
   "cell_type": "code",
   "execution_count": null,
   "metadata": {},
   "outputs": [],
   "source": [
    "y = outcome\n",
    "lambda_val = 1\n",
    "interested_in = [0, 1, 2] # smallest percentage is 9.4%\n",
    "\n",
    "print_num_samples(y)\n",
    "#outcome_train(X, y, interested_in, lambda_val, num_groups, feature_labels, output=False)"
   ]
  },
  {
   "cell_type": "code",
   "execution_count": null,
   "metadata": {},
   "outputs": [],
   "source": []
  }
 ],
 "metadata": {
  "kernelspec": {
   "display_name": "Python 3",
   "language": "python",
   "name": "python3"
  },
  "language_info": {
   "codemirror_mode": {
    "name": "ipython",
    "version": 3
   },
   "file_extension": ".py",
   "mimetype": "text/x-python",
   "name": "python",
   "nbconvert_exporter": "python",
   "pygments_lexer": "ipython3",
   "version": "3.7.3"
  }
 },
 "nbformat": 4,
 "nbformat_minor": 2
}
