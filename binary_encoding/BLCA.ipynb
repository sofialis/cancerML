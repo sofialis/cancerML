{
 "cells": [
  {
   "cell_type": "code",
   "execution_count": 9,
   "metadata": {
    "scrolled": true
   },
   "outputs": [],
   "source": [
    "# Import the libraries\n",
    "%matplotlib inline\n",
    "%reload_ext autoreload\n",
    "%autoreload 2\n",
    "\n",
    "import warnings\n",
    "warnings.filterwarnings(\"ignore\")\n",
    "import numpy as np\n",
    "\n",
    "import pandas as pd\n",
    "import import_ipynb\n",
    "from cancer_helper import *\n",
    "from init_data import *"
   ]
  },
  {
   "cell_type": "code",
   "execution_count": 10,
   "metadata": {
    "scrolled": true
   },
   "outputs": [],
   "source": [
    "# Process the CSV data and put it into X as features\n",
    "np_data = pd.read_csv('csv/BLCA.csv',keep_default_na=False, sep=';',header=None, encoding = \"utf-8\").values\n",
    "X, feature_labels, vital_status, death_days_to, outcome = init_data_BLCA(np_data)\n",
    "num_groups = 5"
   ]
  },
  {
   "cell_type": "markdown",
   "metadata": {},
   "source": [
    "**Vital status**"
   ]
  },
  {
   "cell_type": "code",
   "execution_count": 3,
   "metadata": {},
   "outputs": [
    {
     "name": "stdout",
     "output_type": "stream",
     "text": [
      "Logistic Regression (in class):\n",
      "Average train final cost: nan\n",
      "Average train accuracy: 32.78 %\n",
      "Average train F1 score: 0.33\n",
      "Average test accuracy: 33.87 %\n",
      "Average test F1 score: 0.34\n"
     ]
    },
    {
     "data": {
      "image/png": "[encoded data removed]",
      "text/plain": [
       "<Figure size 432x288 with 2 Axes>"
      ]
     },
     "metadata": {
      "needs_background": "light"
     },
     "output_type": "display_data"
    },
    {
     "name": "stdout",
     "output_type": "stream",
     "text": [
      "Logistic Regression (scikit):\n",
      "Average train final cost: 7.14\n",
      "Average train accuracy: 79.32 %\n",
      "Average train F1 score: 0.82\n",
      "Average test final cost: 7.49\n",
      "Average test accuracy: 78.30 %\n",
      "Average test F1 score: 0.81\n",
      "Average Gaussian Naive Bayes accuracy: 75.95 %\n",
      "Average Gaussian Naive Bayes F1 score: 0.76\n"
     ]
    },
    {
     "data": {
      "image/png": "[encoded data removed]",
      "text/plain": [
       "<Figure size 432x288 with 2 Axes>"
      ]
     },
     "metadata": {
      "needs_background": "light"
     },
     "output_type": "display_data"
    },
    {
     "name": "stdout",
     "output_type": "stream",
     "text": [
      "\n",
      "Highest average weights (absolute values):\n",
      "tumor_status : 12.04\n",
      "new_tumor_event_type : 1.52\n",
      "age : 0.28\n"
     ]
    }
   ],
   "source": [
    "y = vital_status\n",
    "iters = 500 # recommended 40000\n",
    "alpha = 0.00000001\n",
    "\n",
    "vital_status_train(X, y, alpha, iters, num_groups, feature_labels)"
   ]
  },
  {
   "cell_type": "markdown",
   "metadata": {},
   "source": [
    "**Death days to**"
   ]
  },
  {
   "cell_type": "code",
   "execution_count": 4,
   "metadata": {
    "scrolled": true
   },
   "outputs": [
    {
     "name": "stdout",
     "output_type": "stream",
     "text": [
      "In-class model:\n",
      "Average final cost: nan\n",
      "Mean in y: 551.24\n",
      "Variance in y: 257518.59\n",
      "\n",
      "Scikit model:\n",
      "Average train accuracy: 49.63 %\n",
      "Average test accuracy: 50.31 %\n"
     ]
    }
   ],
   "source": [
    "dead = np.nonzero(vital_status == 0)[0]\n",
    "y = death_days_to[dead].astype('int')\n",
    "X_death = X[dead, :]\n",
    "iters = 4000\n",
    "alpha = 0.005\n",
    "\n",
    "death_days_to_train(X_death, y, alpha, iters, num_groups)"
   ]
  },
  {
   "cell_type": "markdown",
   "metadata": {},
   "source": [
    "**Outcome**"
   ]
  },
  {
   "cell_type": "code",
   "execution_count": 5,
   "metadata": {},
   "outputs": [
    {
     "name": "stdout",
     "output_type": "stream",
     "text": [
      "Samples of class 0 : 208\n",
      "Samples of class 1 : 30\n",
      "Samples of class 2 : 63\n",
      "Samples of class 3 : 17\n",
      "Samples of class 4 : 0\n",
      "\n"
     ]
    }
   ],
   "source": [
    "y = outcome\n",
    "lambda_val = 1\n",
    "interested_in = [0, 1, 2]\n",
    "\n",
    "print_num_samples(y)\n",
    "# outcome_train(X, y, interested_in, lambda_val, num_groups, feature_labels, output=False)"
   ]
  },
  {
   "cell_type": "code",
   "execution_count": null,
   "metadata": {},
   "outputs": [],
   "source": []
  }
 ],
 "metadata": {
  "kernelspec": {
   "display_name": "Python 3",
   "language": "python",
   "name": "python3"
  },
  "language_info": {
   "codemirror_mode": {
    "name": "ipython",
    "version": 3
   },
   "file_extension": ".py",
   "mimetype": "text/x-python",
   "name": "python",
   "nbconvert_exporter": "python",
   "pygments_lexer": "ipython3",
   "version": "3.7.3"
  }
 },
 "nbformat": 4,
 "nbformat_minor": 2
}
