{
 "cells": [
  {
   "cell_type": "code",
   "execution_count": 18,
   "metadata": {
    "scrolled": true
   },
   "outputs": [],
   "source": [
    "# Import the libraries\n",
    "%matplotlib inline\n",
    "%reload_ext autoreload\n",
    "%autoreload 2\n",
    "\n",
    "import warnings\n",
    "warnings.filterwarnings(\"ignore\")\n",
    "import numpy as np\n",
    "\n",
    "import pandas as pd\n",
    "import import_ipynb\n",
    "from cancer_helper import *\n",
    "from init_data import *"
   ]
  },
  {
   "cell_type": "code",
   "execution_count": 19,
   "metadata": {
    "scrolled": true
   },
   "outputs": [],
   "source": [
    "# Process the CSV data and put it into X as features\n",
    "np_data = pd.read_csv('OV.csv',keep_default_na=False, sep=';',header=None, encoding = \"utf-8\").values\n",
    "X, feature_labels, vital_status, death_days_to, outcome = init_data_OV(np_data)\n",
    "num_groups = 5"
   ]
  },
  {
   "cell_type": "code",
   "execution_count": 32,
   "metadata": {},
   "outputs": [
    {
     "data": {
      "text/html": [
       "<div>\n",
       "<style scoped>\n",
       "    .dataframe tbody tr th:only-of-type {\n",
       "        vertical-align: middle;\n",
       "    }\n",
       "\n",
       "    .dataframe tbody tr th {\n",
       "        vertical-align: top;\n",
       "    }\n",
       "\n",
       "    .dataframe thead th {\n",
       "        text-align: right;\n",
       "    }\n",
       "</style>\n",
       "<table border=\"1\" class=\"dataframe\">\n",
       "  <thead>\n",
       "    <tr style=\"text-align: right;\">\n",
       "      <th></th>\n",
       "      <th>0</th>\n",
       "      <th>1</th>\n",
       "      <th>2</th>\n",
       "      <th>3</th>\n",
       "      <th>4</th>\n",
       "      <th>5</th>\n",
       "      <th>6</th>\n",
       "      <th>7</th>\n",
       "      <th>8</th>\n",
       "      <th>9</th>\n",
       "      <th>10</th>\n",
       "      <th>11</th>\n",
       "      <th>12</th>\n",
       "      <th>13</th>\n",
       "    </tr>\n",
       "  </thead>\n",
       "  <tbody>\n",
       "    <tr>\n",
       "      <th>0</th>\n",
       "      <td>TCGA-36-2540</td>\n",
       "      <td>OV</td>\n",
       "      <td>26</td>\n",
       "      <td>FEMALE</td>\n",
       "      <td>Stage IIIC</td>\n",
       "      <td>Serous Cystadenocarcinoma</td>\n",
       "      <td>G1</td>\n",
       "      <td>2008</td>\n",
       "      <td>Alive</td>\n",
       "      <td>WITH TUMOR</td>\n",
       "      <td>#N/A</td>\n",
       "      <td>Recurrence</td>\n",
       "      <td>665</td>\n",
       "      <td>Complete Remission/Response</td>\n",
       "    </tr>\n",
       "    <tr>\n",
       "      <th>1</th>\n",
       "      <td>TCGA-61-2017</td>\n",
       "      <td>OV</td>\n",
       "      <td>64</td>\n",
       "      <td>FEMALE</td>\n",
       "      <td>Stage IIIC</td>\n",
       "      <td>Serous Cystadenocarcinoma</td>\n",
       "      <td>G1</td>\n",
       "      <td>2005</td>\n",
       "      <td>Alive</td>\n",
       "      <td>WITH TUMOR</td>\n",
       "      <td>#N/A</td>\n",
       "      <td>Recurrence</td>\n",
       "      <td>1006</td>\n",
       "      <td>Complete Remission/Response</td>\n",
       "    </tr>\n",
       "    <tr>\n",
       "      <th>2</th>\n",
       "      <td>TCGA-61-1721</td>\n",
       "      <td>OV</td>\n",
       "      <td>38</td>\n",
       "      <td>FEMALE</td>\n",
       "      <td>Stage IV</td>\n",
       "      <td>Serous Cystadenocarcinoma</td>\n",
       "      <td>G1</td>\n",
       "      <td>2008</td>\n",
       "      <td>Alive</td>\n",
       "      <td>TUMOR FREE</td>\n",
       "      <td>#N/A</td>\n",
       "      <td>#N/A</td>\n",
       "      <td>#N/A</td>\n",
       "      <td>Complete Remission/Response</td>\n",
       "    </tr>\n",
       "    <tr>\n",
       "      <th>3</th>\n",
       "      <td>TCGA-09-1675</td>\n",
       "      <td>OV</td>\n",
       "      <td>50</td>\n",
       "      <td>FEMALE</td>\n",
       "      <td>Stage IC</td>\n",
       "      <td>Serous Cystadenocarcinoma</td>\n",
       "      <td>G2</td>\n",
       "      <td>2001</td>\n",
       "      <td>Alive</td>\n",
       "      <td>TUMOR FREE</td>\n",
       "      <td>#N/A</td>\n",
       "      <td>#N/A</td>\n",
       "      <td>#N/A</td>\n",
       "      <td>Complete Remission/Response</td>\n",
       "    </tr>\n",
       "    <tr>\n",
       "      <th>4</th>\n",
       "      <td>TCGA-61-2096</td>\n",
       "      <td>OV</td>\n",
       "      <td>56</td>\n",
       "      <td>FEMALE</td>\n",
       "      <td>Stage IC</td>\n",
       "      <td>Serous Cystadenocarcinoma</td>\n",
       "      <td>G2</td>\n",
       "      <td>2003</td>\n",
       "      <td>Alive</td>\n",
       "      <td>TUMOR FREE</td>\n",
       "      <td>#N/A</td>\n",
       "      <td>Recurrence</td>\n",
       "      <td>421</td>\n",
       "      <td>Progressive Disease</td>\n",
       "    </tr>\n",
       "  </tbody>\n",
       "</table>\n",
       "</div>"
      ],
      "text/plain": [
       "             0   1   2       3           4                          5   6   \\\n",
       "0  TCGA-36-2540  OV  26  FEMALE  Stage IIIC  Serous Cystadenocarcinoma  G1   \n",
       "1  TCGA-61-2017  OV  64  FEMALE  Stage IIIC  Serous Cystadenocarcinoma  G1   \n",
       "2  TCGA-61-1721  OV  38  FEMALE    Stage IV  Serous Cystadenocarcinoma  G1   \n",
       "3  TCGA-09-1675  OV  50  FEMALE    Stage IC  Serous Cystadenocarcinoma  G2   \n",
       "4  TCGA-61-2096  OV  56  FEMALE    Stage IC  Serous Cystadenocarcinoma  G2   \n",
       "\n",
       "     7      8           9     10          11    12  \\\n",
       "0  2008  Alive  WITH TUMOR  #N/A  Recurrence   665   \n",
       "1  2005  Alive  WITH TUMOR  #N/A  Recurrence  1006   \n",
       "2  2008  Alive  TUMOR FREE  #N/A        #N/A  #N/A   \n",
       "3  2001  Alive  TUMOR FREE  #N/A        #N/A  #N/A   \n",
       "4  2003  Alive  TUMOR FREE  #N/A  Recurrence   421   \n",
       "\n",
       "                            13  \n",
       "0  Complete Remission/Response  \n",
       "1  Complete Remission/Response  \n",
       "2  Complete Remission/Response  \n",
       "3  Complete Remission/Response  \n",
       "4          Progressive Disease  "
      ]
     },
     "execution_count": 32,
     "metadata": {},
     "output_type": "execute_result"
    }
   ],
   "source": [
    "pd.DataFrame(np_data).head()"
   ]
  },
  {
   "cell_type": "code",
   "execution_count": 31,
   "metadata": {},
   "outputs": [
    {
     "data": {
      "text/plain": [
       "14"
      ]
     },
     "execution_count": 31,
     "metadata": {},
     "output_type": "execute_result"
    }
   ],
   "source": [
    "len(pd.DataFrame(np_data).columns)"
   ]
  },
  {
   "cell_type": "markdown",
   "metadata": {},
   "source": [
    "**Vital status**"
   ]
  },
  {
   "cell_type": "code",
   "execution_count": 3,
   "metadata": {
    "scrolled": false
   },
   "outputs": [
    {
     "name": "stdout",
     "output_type": "stream",
     "text": [
      "In class model:\n",
      "Average train final cost: nan\n",
      "Average train accuracy: 39.01 %\n",
      "Average train F1 score: 0.40\n",
      "Average test accuracy: 35.97 %\n",
      "Average test F1 score: 0.37\n"
     ]
    },
    {
     "data": {
      "image/png": "[encoded data removed]",
      "text/plain": [
       "<Figure size 432x288 with 2 Axes>"
      ]
     },
     "metadata": {
      "needs_background": "light"
     },
     "output_type": "display_data"
    },
    {
     "name": "stdout",
     "output_type": "stream",
     "text": [
      "\n",
      "Scikit model:\n",
      "Average train final cost: 6.58\n",
      "Average train accuracy: 80.94 %\n",
      "Average train F1 score: 0.79\n",
      "Average test final cost: 6.87\n",
      "Average test accuracy: 80.10 %\n",
      "Average test F1 score: 0.78\n",
      "Average Gaussian Naive Bayes accuracy: 82.05 %\n"
     ]
    },
    {
     "data": {
      "image/png": "[encoded data removed]",
      "text/plain": [
       "<Figure size 432x288 with 2 Axes>"
      ]
     },
     "metadata": {
      "needs_background": "light"
     },
     "output_type": "display_data"
    },
    {
     "name": "stdout",
     "output_type": "stream",
     "text": [
      "\n",
      "Highest average weights (absolute values!):\n",
      "tumor_status : 13.64\n",
      "new_tumor_event_type : 7.56\n",
      "clinical_stage : 2.82\n"
     ]
    }
   ],
   "source": [
    "y = vital_status\n",
    "iters = 200 # recommended 40000\n",
    "alpha = 0.00000001\n",
    "\n",
    "vital_status_train(X, y, alpha, iters, num_groups, feature_labels)"
   ]
  },
  {
   "cell_type": "markdown",
   "metadata": {},
   "source": [
    "**Death days to**"
   ]
  },
  {
   "cell_type": "code",
   "execution_count": 4,
   "metadata": {
    "scrolled": true
   },
   "outputs": [
    {
     "name": "stdout",
     "output_type": "stream",
     "text": [
      "In-class model:\n",
      "Average final cost: nan\n",
      "Mean in y: 1276.39\n",
      "Variance in y: 588693.39\n",
      "\n",
      "Scikit model:\n",
      "Average train accuracy: 25.65 %\n",
      "Average test accuracy: 25.02 %\n"
     ]
    }
   ],
   "source": [
    "dead = np.nonzero(vital_status == 0)[0]\n",
    "y = death_days_to[dead].astype('int')\n",
    "X_death = X[dead, :]\n",
    "iters = 4000\n",
    "alpha = 0.005\n",
    "\n",
    "death_days_to_train(X_death, y, alpha, iters, num_groups)"
   ]
  },
  {
   "cell_type": "markdown",
   "metadata": {},
   "source": [
    "**Outcome**"
   ]
  },
  {
   "cell_type": "code",
   "execution_count": 17,
   "metadata": {
    "scrolled": false
   },
   "outputs": [
    {
     "name": "stdout",
     "output_type": "stream",
     "text": [
      "In class model:\n",
      "One vs all:\n",
      "Average train accuracy: 49.79 %\n",
      "Average train F1 score: 0.07\n",
      "Average test accuracy: 49.17 %\n",
      "Average test F1 score: 0.08\n"
     ]
    },
    {
     "data": {
      "image/png": "[encoded data removed]",
      "text/plain": [
       "<Figure size 432x288 with 2 Axes>"
      ]
     },
     "metadata": {
      "needs_background": "light"
     },
     "output_type": "display_data"
    },
    {
     "name": "stdout",
     "output_type": "stream",
     "text": [
      "\n",
      "Scikit model:\n",
      "Average train accuracy: 49.79 %\n",
      "Average train F1 score: 0.44\n",
      "Average test accuracy: 48.33 %\n",
      "Average test F1 score: 0.43\n",
      "Average Gaussian Naive Bayes accuracy: 35.83 %\n"
     ]
    },
    {
     "data": {
      "image/png": "[encoded data removed]",
      "text/plain": [
       "<Figure size 432x288 with 2 Axes>"
      ]
     },
     "metadata": {
      "needs_background": "light"
     },
     "output_type": "display_data"
    },
    {
     "name": "stdout",
     "output_type": "stream",
     "text": [
      "\n",
      "Highest average weights (absolute values!):\n",
      "tumor_status : 8.59\n",
      "new_tumor_event_type : 5.39\n",
      "histological_grade : 3.44\n"
     ]
    },
    {
     "data": {
      "image/png": "[encoded data removed]",
      "text/plain": [
       "<Figure size 432x288 with 1 Axes>"
      ]
     },
     "metadata": {
      "needs_background": "light"
     },
     "output_type": "display_data"
    }
   ],
   "source": [
    "y = outcome\n",
    "lambda_val = 1\n",
    "interested_in = [0, 1, 2, 3]\n",
    "\n",
    "# print_num_samples(y)\n",
    "outcome_train(X, y, interested_in, lambda_val, num_groups, feature_labels)"
   ]
  },
  {
   "cell_type": "code",
   "execution_count": null,
   "metadata": {},
   "outputs": [],
   "source": []
  }
 ],
 "metadata": {
  "kernelspec": {
   "display_name": "Python 3",
   "language": "python",
   "name": "python3"
  },
  "language_info": {
   "codemirror_mode": {
    "name": "ipython",
    "version": 3
   },
   "file_extension": ".py",
   "mimetype": "text/x-python",
   "name": "python",
   "nbconvert_exporter": "python",
   "pygments_lexer": "ipython3",
   "version": "3.7.3"
  }
 },
 "nbformat": 4,
 "nbformat_minor": 2
}
