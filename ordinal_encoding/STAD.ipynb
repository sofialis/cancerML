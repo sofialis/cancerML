{
 "cells": [
  {
   "cell_type": "code",
   "execution_count": 1,
   "metadata": {
    "scrolled": true
   },
   "outputs": [
    {
     "name": "stdout",
     "output_type": "stream",
     "text": [
      "importing Jupyter notebook from cancer_helper.ipynb\n",
      "importing Jupyter notebook from init_data.ipynb\n"
     ]
    }
   ],
   "source": [
    "# Import the libraries\n",
    "%matplotlib inline\n",
    "%reload_ext autoreload\n",
    "%autoreload 2\n",
    "\n",
    "import warnings\n",
    "warnings.filterwarnings(\"ignore\")\n",
    "import numpy as np\n",
    "\n",
    "import pandas as pd\n",
    "import import_ipynb\n",
    "from cancer_helper import *\n",
    "from init_data import *"
   ]
  },
  {
   "cell_type": "code",
   "execution_count": 2,
   "metadata": {
    "scrolled": true
   },
   "outputs": [],
   "source": [
    "# Process the CSV data and put it into X as features\n",
    "np_data = pd.read_csv('STAD.csv',keep_default_na=False, sep=';',header=None, encoding = \"utf-8\").values\n",
    "X, feature_labels, vital_status, death_days_to, outcome = init_data_STAD(np_data)\n",
    "num_groups = 5"
   ]
  },
  {
   "cell_type": "markdown",
   "metadata": {},
   "source": [
    "**Vital status**"
   ]
  },
  {
   "cell_type": "code",
   "execution_count": 3,
   "metadata": {
    "scrolled": false
   },
   "outputs": [
    {
     "name": "stdout",
     "output_type": "stream",
     "text": [
      "In class model:\n",
      "Average train final cost: nan\n",
      "Average train accuracy: 36.30 %\n",
      "Average train F1 score: 0.39\n",
      "Average test accuracy: 37.47 %\n",
      "Average test F1 score: 0.40\n",
      "\n",
      "Scikit model:\n",
      "Average train final cost: 7.87\n",
      "Average train accuracy: 77.21 %\n",
      "Average train F1 score: 0.79\n",
      "Average test final cost: 8.23\n",
      "Average test accuracy: 76.17 %\n",
      "Average test F1 score: 0.77\n",
      "\n",
      "Highest average weights:\n",
      "tumor_status : 11.81\n",
      "new_tumor_event_type : 3.02\n",
      "tumor_stage : 1.13\n"
     ]
    }
   ],
   "source": [
    "y = vital_status\n",
    "iters = 200 # recommended 40000\n",
    "alpha = 0.00000001\n",
    "\n",
    "vital_status_train(X, y, alpha, iters, num_groups, feature_labels)"
   ]
  },
  {
   "cell_type": "markdown",
   "metadata": {},
   "source": [
    "**Death days to**"
   ]
  },
  {
   "cell_type": "code",
   "execution_count": 4,
   "metadata": {
    "scrolled": true
   },
   "outputs": [
    {
     "name": "stdout",
     "output_type": "stream",
     "text": [
      "In-class model:\n",
      "Average final cost: 3636134.78\n",
      "\n",
      "Scikit model:\n",
      "Average train accuracy: 57.66 %\n",
      "Average test accuracy: 57.13 %\n"
     ]
    }
   ],
   "source": [
    "dead = np.nonzero(vital_status == 0)[0]\n",
    "y = death_days_to[dead].astype('int')\n",
    "X_death = X[dead, :]\n",
    "iters = 4000\n",
    "alpha = 0.005\n",
    "\n",
    "death_days_to_train(X_death, y, alpha, iters, num_groups)"
   ]
  },
  {
   "cell_type": "markdown",
   "metadata": {},
   "source": [
    "**Outcome**"
   ]
  },
  {
   "cell_type": "code",
   "execution_count": 6,
   "metadata": {
    "scrolled": false
   },
   "outputs": [
    {
     "name": "stdout",
     "output_type": "stream",
     "text": [
      "In class model:\n",
      "Logistic regression:\n",
      "Average train final cost: nan\n",
      "Average train accuracy: 64.18 %\n",
      "Average train F1 score: 0.64\n",
      "Average test accuracy: 65.83 %\n",
      "Average test F1 score: 0.66\n",
      "\n",
      "One vs all:\n",
      "Average train accuracy: 84.88 %\n",
      "Average train F1 score: 0.85\n",
      "Average test accuracy: 82.18 %\n",
      "Average test F1 score: 0.83\n",
      "\n",
      "Scikit model:\n",
      "Average train accuracy: 85.29 %\n",
      "Average train F1 score: 0.85\n",
      "Average test accuracy: 83.08 %\n",
      "Average test F1 score: 0.83\n",
      "\n",
      "Highest average weights:\n",
      "tumor_status : 15.39\n",
      "histological_grade : 3.61\n",
      "gender : 2.39\n"
     ]
    },
    {
     "data": {
      "image/png": "[encoded data removed]",
      "text/plain": [
       "<Figure size 432x288 with 1 Axes>"
      ]
     },
     "metadata": {
      "needs_background": "light"
     },
     "output_type": "display_data"
    }
   ],
   "source": [
    "y = outcome\n",
    "lambda_val = 1\n",
    "interested_in = [0, 2]\n",
    "\n",
    "# print_num_samples(y)\n",
    "outcome_train(X, y, interested_in, lambda_val, num_groups, feature_labels)"
   ]
  },
  {
   "cell_type": "code",
   "execution_count": null,
   "metadata": {},
   "outputs": [],
   "source": []
  }
 ],
 "metadata": {
  "kernelspec": {
   "display_name": "Python 3",
   "language": "python",
   "name": "python3"
  },
  "language_info": {
   "codemirror_mode": {
    "name": "ipython",
    "version": 3
   },
   "file_extension": ".py",
   "mimetype": "text/x-python",
   "name": "python",
   "nbconvert_exporter": "python",
   "pygments_lexer": "ipython3",
   "version": "3.7.3"
  }
 },
 "nbformat": 4,
 "nbformat_minor": 2
}
