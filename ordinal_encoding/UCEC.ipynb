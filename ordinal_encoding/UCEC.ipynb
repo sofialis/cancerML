{
 "cells": [
  {
   "cell_type": "code",
   "execution_count": 1,
   "metadata": {
    "scrolled": true
   },
   "outputs": [
    {
     "name": "stdout",
     "output_type": "stream",
     "text": [
      "importing Jupyter notebook from cancer_helper.ipynb\n",
      "importing Jupyter notebook from init_data.ipynb\n"
     ]
    }
   ],
   "source": [
    "# Import the libraries\n",
    "%matplotlib inline\n",
    "%reload_ext autoreload\n",
    "%autoreload 2\n",
    "\n",
    "import warnings\n",
    "warnings.filterwarnings(\"ignore\")\n",
    "import numpy as np\n",
    "\n",
    "import pandas as pd\n",
    "import import_ipynb\n",
    "from cancer_helper import *\n",
    "from init_data import *"
   ]
  },
  {
   "cell_type": "code",
   "execution_count": 2,
   "metadata": {
    "scrolled": true
   },
   "outputs": [],
   "source": [
    "# Process the CSV data and put it into X as features\n",
    "np_data = pd.read_csv('UCEC.csv',keep_default_na=False, sep=';',header=None, encoding = \"utf-8\").values\n",
    "X, feature_labels, vital_status, death_days_to, outcome = init_data_UCEC(np_data)\n",
    "num_groups = 5"
   ]
  },
  {
   "cell_type": "markdown",
   "metadata": {},
   "source": [
    "**Vital status**"
   ]
  },
  {
   "cell_type": "code",
   "execution_count": 3,
   "metadata": {
    "scrolled": false
   },
   "outputs": [
    {
     "name": "stdout",
     "output_type": "stream",
     "text": [
      "In class model:\n",
      "Average train final cost: nan\n",
      "Average train accuracy: 33.82 %\n",
      "Average train F1 score: 0.40\n",
      "Average test accuracy: 34.38 %\n",
      "Average test F1 score: 0.38\n",
      "\n",
      "Scikit model:\n",
      "Average train final cost: 8.52\n",
      "Average train accuracy: 75.34 %\n",
      "Average train F1 score: 0.76\n",
      "Average test final cost: 10.28\n",
      "Average test accuracy: 70.24 %\n",
      "Average test F1 score: 0.72\n",
      "\n",
      "Highest average weights:\n",
      "tumor_status : 8.86\n",
      "new_tumor_event_type : 2.42\n",
      "histological_grade : 1.51\n"
     ]
    }
   ],
   "source": [
    "y = vital_status\n",
    "iters = 200 # recommended 40000\n",
    "alpha = 0.00000001\n",
    "\n",
    "vital_status_train(X, y, alpha, iters, num_groups, feature_labels)"
   ]
  },
  {
   "cell_type": "markdown",
   "metadata": {},
   "source": [
    "**Death days to**"
   ]
  },
  {
   "cell_type": "code",
   "execution_count": 4,
   "metadata": {
    "scrolled": true
   },
   "outputs": [
    {
     "name": "stdout",
     "output_type": "stream",
     "text": [
      "In-class model:\n",
      "Average final cost: 9252577.78\n",
      "\n",
      "Scikit model:\n",
      "Average train accuracy: 33.77 %\n",
      "Average test accuracy: 26.95 %\n"
     ]
    }
   ],
   "source": [
    "dead = np.nonzero(vital_status == 0)[0]\n",
    "y = death_days_to[dead].astype('int')\n",
    "X_death = X[dead, :]\n",
    "iters = 4000\n",
    "alpha = 0.005\n",
    "\n",
    "death_days_to_train(X_death, y, alpha, iters, num_groups)"
   ]
  },
  {
   "cell_type": "markdown",
   "metadata": {},
   "source": [
    "**Outcome**"
   ]
  },
  {
   "cell_type": "code",
   "execution_count": 6,
   "metadata": {
    "scrolled": false
   },
   "outputs": [
    {
     "name": "stdout",
     "output_type": "stream",
     "text": [
      "In class model:\n",
      "Logistic regression:\n",
      "Average train final cost: nan\n",
      "Average train accuracy: 82.50 %\n",
      "Average train F1 score: 0.82\n",
      "Average test accuracy: 85.00 %\n",
      "Average test F1 score: 0.85\n",
      "\n",
      "One vs all:\n",
      "Average train accuracy: 86.88 %\n",
      "Average train F1 score: 0.87\n",
      "Average test accuracy: 82.50 %\n",
      "Average test F1 score: 0.82\n",
      "\n",
      "Scikit model:\n",
      "Average train accuracy: 88.75 %\n",
      "Average train F1 score: 0.89\n",
      "Average test accuracy: 80.00 %\n",
      "Average test F1 score: 0.79\n",
      "\n",
      "Highest average weights:\n",
      "tumor_status : 7.21\n",
      "histological_type : 2.16\n",
      "new_tumor_event_type : 2.09\n"
     ]
    },
    {
     "data": {
      "image/png": "[encoded data removed]",
      "text/plain": [
       "<Figure size 432x288 with 1 Axes>"
      ]
     },
     "metadata": {
      "needs_background": "light"
     },
     "output_type": "display_data"
    }
   ],
   "source": [
    "y = outcome\n",
    "lambda_val = 1\n",
    "interested_in = [0, 2]\n",
    "\n",
    "# print_num_samples(y)\n",
    "outcome_train(X, y, interested_in, lambda_val, num_groups, feature_labels)"
   ]
  },
  {
   "cell_type": "code",
   "execution_count": null,
   "metadata": {},
   "outputs": [],
   "source": []
  }
 ],
 "metadata": {
  "kernelspec": {
   "display_name": "Python 3",
   "language": "python",
   "name": "python3"
  },
  "language_info": {
   "codemirror_mode": {
    "name": "ipython",
    "version": 3
   },
   "file_extension": ".py",
   "mimetype": "text/x-python",
   "name": "python",
   "nbconvert_exporter": "python",
   "pygments_lexer": "ipython3",
   "version": "3.7.3"
  }
 },
 "nbformat": 4,
 "nbformat_minor": 2
}
