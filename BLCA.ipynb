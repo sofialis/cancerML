{
 "cells": [
  {
   "cell_type": "code",
   "execution_count": 1,
   "metadata": {},
   "outputs": [],
   "source": [
    "%matplotlib inline\n",
    "%reload_ext autoreload\n",
    "%autoreload 2\n",
    "\n",
    "import numpy as np\n",
    "import matplotlib.pyplot as plt\n",
    "import pandas as pd\n",
    "from classifier import train_one_vs_all, predict_one_vs_all\n",
    "from logistic_regression import logistic, nll_cost_function, gradient_descent"
   ]
  },
  {
   "cell_type": "code",
   "execution_count": 2,
   "metadata": {},
   "outputs": [
    {
     "name": "stdout",
     "output_type": "stream",
     "text": [
      "(318, 9)\n"
     ]
    }
   ],
   "source": [
    "np_data = pd.read_csv('BLCA.csv',keep_default_na=False, sep=';',header=None, encoding = \"utf-8\").values\n",
    "\n",
    "# age \n",
    "age = np_data[:,2].astype(int)\n",
    "\n",
    "# gender\n",
    "gender = np_data[:,3]\n",
    "gender = np.array([l == 'FEMALE' for l in gender]).astype('int') #0 man, 1 woman\n",
    "\n",
    "# ajcc_pathologic_tumor_stage\n",
    "tumor_stage = np_data[:,4]\n",
    "tumor_stage = np.where(tumor_stage==\"Stage I\", 0, tumor_stage)\n",
    "tumor_stage = np.where(tumor_stage==\"Stage II\", 1, tumor_stage)\n",
    "tumor_stage = np.where(tumor_stage==\"Stage III\", 2, tumor_stage)\n",
    "tumor_stage = np.where(tumor_stage==\"Stage IV\", 3, tumor_stage)\n",
    "\n",
    "# histological_type\n",
    "histological_type = np_data[:,5] # ignore, they are all the same\n",
    "\n",
    "# histological_grade\n",
    "histological_grade = np_data[:,6] # ignore, they are all the same\n",
    "\n",
    "# initial_pathologic_dx_year\n",
    "initial_pathologic_dx_year = np_data[:,7].astype(int)\n",
    "\n",
    "# vital_status\n",
    "vital_status = np_data[:,8]\n",
    "vital_status = np.array([l == 'Alive' for l in vital_status]).astype('int') #0 Dead, 1 Alive\n",
    "\n",
    "# tumor_status\n",
    "tumor_status = np_data[:,9] \n",
    "tumor_status = np.array([l == 'WITH TUMOR' for l in tumor_status]).astype('int') #0 no tum, 1 with tum\n",
    "\n",
    "# death_days_to\n",
    "death_days_to = np_data[:, 10] \n",
    "\n",
    "# new_tumor_event_type\n",
    "new_tumor_event_type = np_data[:,11] # N/A - 0, other - 1\n",
    "new_tumor_event_type = np.array([l != '#N/A' for l in new_tumor_event_type]).astype('int') #0 no tum, 1 with tum\n",
    "\n",
    "# new_tumor_event_site\n",
    "new_tumor_event_site = np_data[:,12]\n",
    "new_tumor_event_site = np.array([l != '#N/A' for l in new_tumor_event_site]).astype('int') #0 no tum, 1 with tum\n",
    "\n",
    "#new_tumor_event_site_other\n",
    "\n",
    "#new_tumor_event_dx_days_to\n",
    "new_tumor_event_dx_days_to = np_data[:,14]\n",
    "new_tumor_event_dx_days_to = np.where(new_tumor_event_dx_days_to==\"#N/A\", 0 , new_tumor_event_dx_days_to).astype(int)\n",
    "\n",
    "\n",
    "#treatment_outcome_first_course\n",
    "outcome = np_data[:,15];\n",
    "outcome = np.where(outcome==\"Complete Remission/Response\", 0, outcome)\n",
    "outcome = np.where(outcome==\"Partial Remission/Response\", 3, outcome)\n",
    "outcome = np.where(outcome==\"Progressive Disease\", 2, outcome)\n",
    "outcome = np.where(outcome==\"Stable Disease\", 1, outcome)\n",
    "\n",
    "m = np_data.shape[0]\n",
    "X = np.stack([np.ones(m), age, gender, tumor_stage, initial_pathologic_dx_year, tumor_status, new_tumor_event_type,new_tumor_event_site, new_tumor_event_dx_days_to], axis=1).astype(int)\n",
    "n = X.shape[1]\n",
    "\n",
    "print(X.shape)"
   ]
  },
  {
   "cell_type": "code",
   "execution_count": 14,
   "metadata": {},
   "outputs": [
    {
     "name": "stdout",
     "output_type": "stream",
     "text": [
      "123132\n"
     ]
    },
    {
     "ename": "TypeError",
     "evalue": "'float' object cannot be interpreted as an integer",
     "output_type": "error",
     "traceback": [
      "\u001b[1;31m---------------------------------------------------------------------------\u001b[0m",
      "\u001b[1;31mTypeError\u001b[0m                                 Traceback (most recent call last)",
      "\u001b[1;32m<ipython-input-14-9cd4ed1cb8cc>\u001b[0m in \u001b[0;36m<module>\u001b[1;34m\u001b[0m\n\u001b[0;32m     16\u001b[0m \u001b[0my\u001b[0m \u001b[1;33m=\u001b[0m \u001b[0my\u001b[0m\u001b[1;33m[\u001b[0m\u001b[0msubset\u001b[0m\u001b[1;33m]\u001b[0m\u001b[1;33m\u001b[0m\u001b[1;33m\u001b[0m\u001b[0m\n\u001b[0;32m     17\u001b[0m \u001b[1;33m\u001b[0m\u001b[0m\n\u001b[1;32m---> 18\u001b[1;33m \u001b[0mtheta\u001b[0m\u001b[1;33m,\u001b[0m \u001b[0mJ\u001b[0m \u001b[1;33m=\u001b[0m \u001b[0mgradient_descent\u001b[0m\u001b[1;33m(\u001b[0m\u001b[0mX\u001b[0m\u001b[1;33m,\u001b[0m \u001b[0my\u001b[0m\u001b[1;33m,\u001b[0m \u001b[0mtheta\u001b[0m\u001b[1;33m,\u001b[0m \u001b[1;36m0.0000001\u001b[0m\u001b[1;33m,\u001b[0m \u001b[0miters\u001b[0m\u001b[1;33m)\u001b[0m\u001b[1;33m\u001b[0m\u001b[1;33m\u001b[0m\u001b[0m\n\u001b[0m\u001b[0;32m     19\u001b[0m \u001b[1;31m# print(J[-20:-1])\u001b[0m\u001b[1;33m\u001b[0m\u001b[1;33m\u001b[0m\u001b[1;33m\u001b[0m\u001b[0m\n\u001b[0;32m     20\u001b[0m \u001b[1;33m\u001b[0m\u001b[0m\n",
      "\u001b[1;32m<ipython-input-7-f8b1ba4dfcf8>\u001b[0m in \u001b[0;36mgradient_descent\u001b[1;34m(X, y, alpha, iters, theta)\u001b[0m\n\u001b[0;32m      6\u001b[0m         \u001b[0mtheta\u001b[0m \u001b[1;33m=\u001b[0m \u001b[0mnp\u001b[0m\u001b[1;33m.\u001b[0m\u001b[0mones\u001b[0m\u001b[1;33m(\u001b[0m\u001b[0mn\u001b[0m\u001b[1;33m)\u001b[0m\u001b[1;33m\u001b[0m\u001b[1;33m\u001b[0m\u001b[0m\n\u001b[0;32m      7\u001b[0m \u001b[1;33m\u001b[0m\u001b[0m\n\u001b[1;32m----> 8\u001b[1;33m     \u001b[0mJ_history\u001b[0m \u001b[1;33m=\u001b[0m \u001b[0mnp\u001b[0m\u001b[1;33m.\u001b[0m\u001b[0mones\u001b[0m\u001b[1;33m(\u001b[0m\u001b[0miters\u001b[0m\u001b[1;33m)\u001b[0m\u001b[1;33m\u001b[0m\u001b[1;33m\u001b[0m\u001b[0m\n\u001b[0m\u001b[0;32m      9\u001b[0m \u001b[1;33m\u001b[0m\u001b[0m\n\u001b[0;32m     10\u001b[0m     \u001b[1;32mfor\u001b[0m \u001b[0mi\u001b[0m \u001b[1;32min\u001b[0m \u001b[0mrange\u001b[0m\u001b[1;33m(\u001b[0m\u001b[1;36m0\u001b[0m\u001b[1;33m,\u001b[0m \u001b[0miters\u001b[0m\u001b[1;33m)\u001b[0m\u001b[1;33m:\u001b[0m\u001b[1;33m\u001b[0m\u001b[1;33m\u001b[0m\u001b[0m\n",
      "\u001b[1;32m~\\AppData\\Local\\Continuum\\anaconda3\\lib\\site-packages\\numpy\\core\\numeric.py\u001b[0m in \u001b[0;36mones\u001b[1;34m(shape, dtype, order)\u001b[0m\n\u001b[0;32m    221\u001b[0m \u001b[1;33m\u001b[0m\u001b[0m\n\u001b[0;32m    222\u001b[0m     \"\"\"\n\u001b[1;32m--> 223\u001b[1;33m     \u001b[0ma\u001b[0m \u001b[1;33m=\u001b[0m \u001b[0mempty\u001b[0m\u001b[1;33m(\u001b[0m\u001b[0mshape\u001b[0m\u001b[1;33m,\u001b[0m \u001b[0mdtype\u001b[0m\u001b[1;33m,\u001b[0m \u001b[0morder\u001b[0m\u001b[1;33m)\u001b[0m\u001b[1;33m\u001b[0m\u001b[1;33m\u001b[0m\u001b[0m\n\u001b[0m\u001b[0;32m    224\u001b[0m     \u001b[0mmultiarray\u001b[0m\u001b[1;33m.\u001b[0m\u001b[0mcopyto\u001b[0m\u001b[1;33m(\u001b[0m\u001b[0ma\u001b[0m\u001b[1;33m,\u001b[0m \u001b[1;36m1\u001b[0m\u001b[1;33m,\u001b[0m \u001b[0mcasting\u001b[0m\u001b[1;33m=\u001b[0m\u001b[1;34m'unsafe'\u001b[0m\u001b[1;33m)\u001b[0m\u001b[1;33m\u001b[0m\u001b[1;33m\u001b[0m\u001b[0m\n\u001b[0;32m    225\u001b[0m     \u001b[1;32mreturn\u001b[0m \u001b[0ma\u001b[0m\u001b[1;33m\u001b[0m\u001b[1;33m\u001b[0m\u001b[0m\n",
      "\u001b[1;31mTypeError\u001b[0m: 'float' object cannot be interpreted as an integer"
     ]
    }
   ],
   "source": [
    "theta = np.ones(n)\n",
    "iters = 200\n",
    "y = vital_status\n",
    "X = np.stack([np.ones(m), age, gender, tumor_stage, initial_pathologic_dx_year, tumor_status, new_tumor_event_type,new_tumor_event_site, new_tumor_event_dx_days_to], axis=1).astype(int)\n",
    "\n",
    "numTrain = 213\n",
    "numTest = 53\n",
    "\n",
    "dead = np.nonzero(vital_status == 0)[0]\n",
    "alive = np.nonzero(vital_status == 1)[0]\n",
    "subset = np.concatenate([dead, alive[0:len(dead)] ])\n",
    "\n",
    "np.random.shuffle(subset)\n",
    "\n",
    "X = X[subset,:]\n",
    "y = y[subset]\n",
    "\n",
    "theta, J = gradient_descent(X, y, theta, 0.0000001, iters)\n",
    "# print(J[-20:-1])\n",
    "\n",
    "y_predict = np.zeros(len(y))\n",
    "correct_pred = 0\n",
    "result = logistic(np.dot(X,theta))\n",
    "y_predict =  np.where(result < 0.5, 0, result)\n",
    "y_predict =  np.where(y_predict >= 0.5, 1, y_predict)\n",
    "\n",
    "for i in range(len(y)):\n",
    "    if  y_predict[i] == y[i]:\n",
    "        correct_pred+=1\n",
    "\n",
    "print(\"accuracy:\", np.around(correct_pred/len(y)*100,2),\"%\")"
   ]
  },
  {
   "cell_type": "code",
   "execution_count": 4,
   "metadata": {},
   "outputs": [
    {
     "name": "stdout",
     "output_type": "stream",
     "text": [
      "(266, 9)\n",
      "0.6981132075471698\n"
     ]
    }
   ],
   "source": [
    "from sklearn.linear_model import LogisticRegression\n",
    "lr = LogisticRegression(C = 10e15, max_iter=1000, solver='liblinear')\n",
    "\n",
    "y = vital_status\n",
    "X = np.stack([np.ones(m), age, gender, tumor_stage, initial_pathologic_dx_year, tumor_status, new_tumor_event_type,new_tumor_event_site, new_tumor_event_dx_days_to], axis=1).astype(int)\n",
    "\n",
    "numTrain = 213\n",
    "numTest = 53\n",
    "\n",
    "dead = np.nonzero(vital_status == 0)[0]\n",
    "alive = np.nonzero(vital_status == 1)[0]\n",
    "subset = np.concatenate([dead, alive[0:len(dead)] ])\n",
    "\n",
    "np.random.shuffle(subset)\n",
    "\n",
    "X = X[subset,:]\n",
    "y = y[subset]\n",
    "\n",
    "print(X.shape)\n",
    "train = np.arange(numTrain)\n",
    "test  = numTrain + np.arange(numTest)\n",
    "\n",
    "X_train = X[train,:]\n",
    "y_train = y[train]\n",
    "\n",
    "X_test  = X[test,:]\n",
    "y_test  = y[test]\n",
    "\n",
    "lr.fit(X_train, y_train)\n",
    "prediction = lr.predict(X_test)\n",
    "\n",
    "from sklearn.metrics import classification_report, confusion_matrix\n",
    "\n",
    "correct_pred = 0\n",
    "for i in range(len(prediction)):\n",
    "    if  prediction[i] == y_test[i]:\n",
    "        correct_pred+=1\n",
    "cnf_matrix = confusion_matrix(y_test, prediction)\n",
    "\n",
    "print(correct_pred/len(prediction))"
   ]
  },
  {
   "cell_type": "code",
   "execution_count": 5,
   "metadata": {},
   "outputs": [
    {
     "data": {
      "image/png": "[encoded data removed]",
      "text/plain": [
       "<Figure size 432x288 with 2 Axes>"
      ]
     },
     "metadata": {
      "needs_background": "light"
     },
     "output_type": "display_data"
    }
   ],
   "source": [
    "import seaborn as sns\n",
    "\n",
    "class_names=[0, 1] # name  of classes\n",
    "names = [\"Dead\", \"Alive\"]\n",
    "\n",
    "fig, ax = plt.subplots()\n",
    "tick_marks = np.arange(len(class_names))\n",
    "plt.xticks(tick_marks, names)\n",
    "plt.yticks(tick_marks, names)\n",
    "\n",
    "# create heatmap\n",
    "sns.heatmap(pd.DataFrame(cnf_matrix), annot=True, cmap=\"YlGnBu\" ,fmt='g')\n",
    "ax.xaxis.set_label_position(\"top\")\n",
    "plt.tight_layout()\n",
    "plt.title('Confusion matrix', y=1.1)\n",
    "plt.ylabel('Actual label')\n",
    "plt.xlabel('Predicted label')\n",
    "plt.show()"
   ]
  },
  {
   "cell_type": "code",
   "execution_count": 16,
   "metadata": {},
   "outputs": [],
   "source": [
    "# choose only dead ones \n",
    "dead = np.nonzero(vital_status == 0)[0] # indices of dead people\n",
    "np.random.shuffle(dead)\n",
    "y = death_days_to[dead].astype('int') # get all y's\n",
    "X = np.stack([np.ones(m), age, gender, tumor_stage, initial_pathologic_dx_year, tumor_status, new_tumor_event_type,new_tumor_event_site, new_tumor_event_dx_days_to], axis=1).astype(int)\n",
    "X = X[dead, :]\n",
    "\n",
    "numTrain    = 107\n",
    "numTest     = 26\n",
    "\n",
    "train = np.arange(numTrain)\n",
    "test  = numTrain + np.arange(numTest)\n",
    "\n",
    "X_train = X[train,:]\n",
    "y_train = y[train]\n",
    "\n",
    "X_test  = X[test,:]\n",
    "y_test  = y[test]\n",
    "\n"
   ]
  },
  {
   "cell_type": "code",
   "execution_count": 15,
   "metadata": {},
   "outputs": [],
   "source": [
    "# regression\n",
    "def gradient_descent( X, y, alpha, iters, theta=None ):\n",
    "    m,n = X.shape\n",
    "    print(123132)\n",
    "    if theta is None:\n",
    "        theta = np.ones(n)\n",
    "    \n",
    "    J_history = np.zeros(iters)\n",
    "\n",
    "    for i in range(0, iters):       \n",
    "        theta = theta - np.dot(alpha*X.T, np.dot(X, theta) - y)\n",
    "        J_history[i] = cost_function(X, y, theta)    \n",
    "    return theta, J_history\n",
    "\n",
    "def cost_function(X, y, theta):  \n",
    "    cost = 0\n",
    "    diff = (np.dot(X,theta)-y).T\n",
    "    diff = np.where(abs(diff) < 30, 0, diff)\n",
    "    cost = 0.5*np.dot(diff, diff)\n",
    "    return cost\n",
    "\n",
    "def normalize(M):\n",
    "    norm_M = M.copy()\n",
    "    mean = np.mean(M[:, 1:].copy(), axis = 0)\n",
    "    std = np.array(np.std(M[:, 1:].copy(), axis = 0))\n",
    "    norm_M[:,1:] = np.divide(np.subtract(norm_M[:,1:], mean), std)\n",
    "    return norm_M"
   ]
  },
  {
   "cell_type": "code",
   "execution_count": 17,
   "metadata": {},
   "outputs": [
    {
     "name": "stdout",
     "output_type": "stream",
     "text": [
      "123132\n",
      "Cost function: 8567154.78\n",
      "[12893094.3958375  11135964.40738214 10236466.65895481 ...\n",
      "  8567154.77654851  8567154.77654851  8567154.77654851]\n"
     ]
    }
   ],
   "source": [
    "theta_vec_equations, cost = gradient_descent(normalize(X_train), y_train, 0.005, 40000)\n",
    "print (\"Cost function: %.2f\" % cost[-1])\n",
    "print(cost)"
   ]
  },
  {
   "cell_type": "code",
   "execution_count": 9,
   "metadata": {},
   "outputs": [
    {
     "name": "stdout",
     "output_type": "stream",
     "text": [
      "0.38461538461538464\n"
     ]
    }
   ],
   "source": [
    "from sklearn.linear_model import LinearRegression\n",
    "lin_reg = LinearRegression()\n",
    "lin_reg.fit(X_train, y_train)\n",
    "lin_reg.intercept_, lin_reg.coef_\n",
    "\n",
    "prediction = lin_reg.predict(X_test)\n",
    "correct_pred = 0\n",
    "\n",
    "for i in range(len(prediction)):\n",
    "    if  prediction[i] <= y_test[i] + 150 and prediction[i] >= y_test[i] - 150:\n",
    "        correct_pred+=1\n",
    "        \n",
    "print(correct_pred/len(prediction))"
   ]
  },
  {
   "cell_type": "code",
   "execution_count": 10,
   "metadata": {},
   "outputs": [],
   "source": [
    "'''\n",
    "    Classification by the outcome\n",
    "    \n",
    "''' \n",
    "\n",
    "X = np.stack([np.ones(m), age, gender, tumor_stage, initial_pathologic_dx_year, tumor_status, new_tumor_event_type,new_tumor_event_site, new_tumor_event_dx_days_to], axis=1).astype(int)\n",
    "y = outcome\n",
    "numClasses = 3\n",
    "numTrain = 72 #99 \n",
    "numTest = 18 #24\n",
    "\n",
    "class_1 = np.nonzero(y == 0)[0]   \n",
    "class_2 = np.nonzero(y == 1)[0]   \n",
    "class_3 = np.nonzero(y == 2)[0]   \n",
    "class_4 = np.nonzero(y == 3)[0]   # ignoring this one\n",
    "nlen = len(class_2)\n",
    "subset = np.concatenate([class_1[0:nlen], class_2[0:nlen], class_3[0:nlen]])\n",
    "np.random.shuffle(subset)\n",
    "X = X[subset,:]\n",
    "y = y[subset]\n",
    "\n",
    "# Split into test and train\n",
    "train = np.arange(numTrain)\n",
    "test  = numTrain + np.arange(numTest)\n",
    "\n",
    "X_train = X[train,:]\n",
    "y_train = y[train]\n",
    "\n",
    "X_test  = X[test,:]\n",
    "y_test  = y[test]\n",
    "\n"
   ]
  },
  {
   "cell_type": "code",
   "execution_count": 11,
   "metadata": {},
   "outputs": [
    {
     "name": "stdout",
     "output_type": "stream",
     "text": [
      "0.7777777777777778\n"
     ]
    },
    {
     "name": "stderr",
     "output_type": "stream",
     "text": [
      "C:\\Users\\Sofia\\AppData\\Local\\Continuum\\anaconda3\\lib\\site-packages\\sklearn\\linear_model\\logistic.py:432: FutureWarning: Default solver will be changed to 'lbfgs' in 0.22. Specify a solver to silence this warning.\n",
      "  FutureWarning)\n",
      "C:\\Users\\Sofia\\AppData\\Local\\Continuum\\anaconda3\\lib\\site-packages\\sklearn\\linear_model\\logistic.py:469: FutureWarning: Default multi_class will be changed to 'auto' in 0.22. Specify the multi_class option to silence this warning.\n",
      "  \"this warning.\", FutureWarning)\n"
     ]
    }
   ],
   "source": [
    "from sklearn.linear_model import LogisticRegression\n",
    "\n",
    "logreg = LogisticRegression(C=1e5)\n",
    "logreg.fit(X_train, y_train.astype('int'))\n",
    "prediction = logreg.predict(X_test)\n",
    "\n",
    "correct_pred = 0\n",
    "for i in range(len(prediction)):\n",
    "    if  prediction[i] == y_test[i]:\n",
    "        correct_pred += 1\n",
    "print(correct_pred/len(prediction))\n",
    "\n",
    "# # Plot the decision boundary.\n",
    "# # For that, we will assign a color to each\n",
    "# # point in the mesh [x_min, x_max]x[y_min, y_max].\n",
    "# x_min, x_max = X_train[:, 0].min() - .5, X_train[:, 0].max() + .5\n",
    "# y_min, y_max = X_train[:, 1].min() - .5, X_train[:, 1].max() + .5\n",
    "# h = .02  # step size in the mesh\n",
    "# xx, yy = np.meshgrid(np.arange(x_min, x_max, h), np.arange(y_min, y_max, h))\n",
    "# Z = logreg.predict(np.c_[xx.ravel(), yy.ravel()])\n",
    "\n",
    "# # Put the result into a color plot\n",
    "# Z = Z.reshape(xx.shape)\n",
    "# plt.figure(1, figsize=(4, 3))\n",
    "# plt.pcolormesh(xx, yy, Z, cmap=plt.cm.Paired)\n",
    "\n",
    "# # Plot also the training points\n",
    "# plt.scatter(X_train[:, 0], X_train[:, 1], c=Y, edgecolors='k', cmap=plt.cm.Paired)\n",
    "# plt.xlabel('Sepal length')\n",
    "# plt.ylabel('Sepal width')\n",
    "\n",
    "# plt.xlim(xx.min(), xx.max())\n",
    "# plt.ylim(yy.min(), yy.max())\n",
    "# plt.xticks(())\n",
    "# plt.yticks(())\n",
    "\n",
    "# plt.show()\n",
    "\n",
    "# from sklearn.multiclass import OneVsRestClassifier\n",
    "# from sklearn.svm import SVC\n",
    "\n",
    "# clf = OneVsRestClassifier(SVC()).fit(X_train, y_train.astype('int'))\n",
    "# prediction = clf.predict(X_test)\n",
    "\n",
    "# correct_pred = 0\n",
    "# for i in range(len(prediction)):\n",
    "#     if  prediction[i] == y_test[i]:\n",
    "#         correct_pred+=1\n",
    "# print(correct_pred/len(prediction))\n"
   ]
  },
  {
   "cell_type": "code",
   "execution_count": 12,
   "metadata": {},
   "outputs": [
    {
     "name": "stdout",
     "output_type": "stream",
     "text": [
      "Training Set Accuracy: 54.166667\n",
      "    Test Set Accuracy: 61.111111\n",
      "Lambda: 0.000010 Training Set Accuracy: 65.277778\n",
      "Lambda: 0.000010 Test Set Accuracy: 77.777778\n",
      "Lambda: 0.000100 Training Set Accuracy: 68.055556\n",
      "Lambda: 0.000100 Test Set Accuracy: 66.666667\n",
      "Lambda: 0.001000 Training Set Accuracy: 65.277778\n",
      "Lambda: 0.001000 Test Set Accuracy: 72.222222\n",
      "Lambda: 0.010000 Training Set Accuracy: 66.666667\n",
      "Lambda: 0.010000 Test Set Accuracy: 66.666667\n",
      "Lambda: 0.100000 Training Set Accuracy: 65.277778\n",
      "Lambda: 0.100000 Test Set Accuracy: 77.777778\n",
      "Lambda: 1.000000 Training Set Accuracy: 63.888889\n",
      "Lambda: 1.000000 Test Set Accuracy: 77.777778\n",
      "Lambda: 10.000000 Training Set Accuracy: 65.277778\n",
      "Lambda: 10.000000 Test Set Accuracy: 77.777778\n",
      "Lambda: 100.000000 Training Set Accuracy: 54.166667\n",
      "Lambda: 100.000000 Test Set Accuracy: 61.111111\n",
      "Lambda: 1000.000000 Training Set Accuracy: 52.777778\n",
      "Lambda: 1000.000000 Test Set Accuracy: 44.444444\n",
      "Lambda: 10000.000000 Training Set Accuracy: 47.222222\n",
      "Lambda: 10000.000000 Test Set Accuracy: 38.888889\n",
      "Lambda: 100000.000000 Training Set Accuracy: 50.000000\n",
      "Lambda: 100000.000000 Test Set Accuracy: 38.888889\n"
     ]
    }
   ],
   "source": [
    "lambda_val = 100\n",
    "weight_vectors, intercepts = train_one_vs_all(X_train, y_train, 3, lambda_val)\n",
    "pred_train = predict_one_vs_all(X_train, weight_vectors, intercepts)\n",
    "pred_test  = predict_one_vs_all(X_test,  weight_vectors, intercepts)\n",
    "print(\"Training Set Accuracy: %f\" % (np.mean(pred_train == y_train) * 100))\n",
    "print(\"    Test Set Accuracy: %f\" % (np.mean( pred_test == y_test) * 100))\n",
    "\n",
    "lambda_vals = 10.0 ** np.linspace(-5,5,11)\n",
    "num_classes = 10\n",
    "\n",
    "test_acc = np.zeros(lambda_vals.size)\n",
    "train_acc = np.zeros(lambda_vals.size)\n",
    "\n",
    "for i in range(lambda_vals.size): \n",
    "    weight_vectors, intercepts = train_one_vs_all(X_train, y_train, 3, lambda_vals[i])\n",
    "    pred_train = predict_one_vs_all(X_train, weight_vectors, intercepts)\n",
    "    pred_test  = predict_one_vs_all(X_test,  weight_vectors, intercepts)\n",
    "\n",
    "    print(\"Lambda: %f\" % lambda_vals[i], \"Training Set Accuracy: %f\" % (np.mean(pred_train == y_train) * 100))\n",
    "    print(\"Lambda: %f\" %  lambda_vals[i] , \"Test Set Accuracy: %f\" % (np.mean( pred_test == y_test) * 100))\n",
    "    train_acc[i] = np.mean(pred_train == y_train) * 100\n",
    "    test_acc[i] = np.mean( pred_test == y_test) * 100\n",
    "    \n",
    "    "
   ]
  },
  {
   "cell_type": "code",
   "execution_count": 13,
   "metadata": {},
   "outputs": [
    {
     "data": {
      "image/png": "[encoded data removed]",
      "text/plain": [
       "<Figure size 432x288 with 1 Axes>"
      ]
     },
     "metadata": {
      "needs_background": "light"
     },
     "output_type": "display_data"
    }
   ],
   "source": [
    "plt.xlabel('lambda (log10)')\n",
    "plt.ylabel('accuracy')\n",
    "plt.xscale('log')\n",
    "plt.plot(lambda_vals, train_acc, 'bo', linestyle='dashed')\n",
    "plt.plot(lambda_vals, test_acc, 'go', linestyle='dashed')\n",
    "plt.legend(('train', 'test')) #if you use this legend, make sure you plot the training data first and then the test data\n",
    "plt.show()\n"
   ]
  },
  {
   "cell_type": "code",
   "execution_count": null,
   "metadata": {},
   "outputs": [],
   "source": []
  }
 ],
 "metadata": {
  "kernelspec": {
   "display_name": "Python 3",
   "language": "python",
   "name": "python3"
  },
  "language_info": {
   "codemirror_mode": {
    "name": "ipython",
    "version": 3
   },
   "file_extension": ".py",
   "mimetype": "text/x-python",
   "name": "python",
   "nbconvert_exporter": "python",
   "pygments_lexer": "ipython3",
   "version": "3.7.3"
  }
 },
 "nbformat": 4,
 "nbformat_minor": 2
}
